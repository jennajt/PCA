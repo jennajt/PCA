{
 "cells": [
  {
   "cell_type": "markdown",
   "id": "2fe6fc1e",
   "metadata": {},
   "source": [
    "# Finding patterns in country data using PCA and K-Means Clustering"
   ]
  },
  {
   "cell_type": "code",
   "execution_count": 52,
   "id": "c8328d59",
   "metadata": {},
   "outputs": [],
   "source": [
    "import pandas as pd\n",
    "import numpy as np\n",
    "import matplotlib.pyplot as plt\n",
    "import seaborn as sns\n",
    "from sklearn.preprocessing import MinMaxScaler\n",
    "from sklearn.decomposition import PCA\n",
    "import plotly.express as px\n",
    "from sklearn.cluster import KMeans"
   ]
  },
  {
   "cell_type": "markdown",
   "id": "b3957011",
   "metadata": {},
   "source": [
    "# Read data"
   ]
  },
  {
   "cell_type": "code",
   "execution_count": 53,
   "id": "ff8e9fdd",
   "metadata": {
    "scrolled": true
   },
   "outputs": [
    {
     "data": {
      "text/html": [
       "<div>\n",
       "<style scoped>\n",
       "    .dataframe tbody tr th:only-of-type {\n",
       "        vertical-align: middle;\n",
       "    }\n",
       "\n",
       "    .dataframe tbody tr th {\n",
       "        vertical-align: top;\n",
       "    }\n",
       "\n",
       "    .dataframe thead th {\n",
       "        text-align: right;\n",
       "    }\n",
       "</style>\n",
       "<table border=\"1\" class=\"dataframe\">\n",
       "  <thead>\n",
       "    <tr style=\"text-align: right;\">\n",
       "      <th></th>\n",
       "      <th>country</th>\n",
       "      <th>child_mort</th>\n",
       "      <th>exports</th>\n",
       "      <th>health</th>\n",
       "      <th>imports</th>\n",
       "      <th>income</th>\n",
       "      <th>inflation</th>\n",
       "      <th>life_expec</th>\n",
       "      <th>total_fer</th>\n",
       "      <th>gdpp</th>\n",
       "    </tr>\n",
       "  </thead>\n",
       "  <tbody>\n",
       "    <tr>\n",
       "      <th>0</th>\n",
       "      <td>Afghanistan</td>\n",
       "      <td>90.2</td>\n",
       "      <td>10.0</td>\n",
       "      <td>7.58</td>\n",
       "      <td>44.9</td>\n",
       "      <td>1610</td>\n",
       "      <td>9.44</td>\n",
       "      <td>56.2</td>\n",
       "      <td>5.82</td>\n",
       "      <td>553</td>\n",
       "    </tr>\n",
       "    <tr>\n",
       "      <th>1</th>\n",
       "      <td>Albania</td>\n",
       "      <td>16.6</td>\n",
       "      <td>28.0</td>\n",
       "      <td>6.55</td>\n",
       "      <td>48.6</td>\n",
       "      <td>9930</td>\n",
       "      <td>4.49</td>\n",
       "      <td>76.3</td>\n",
       "      <td>1.65</td>\n",
       "      <td>4090</td>\n",
       "    </tr>\n",
       "    <tr>\n",
       "      <th>2</th>\n",
       "      <td>Algeria</td>\n",
       "      <td>27.3</td>\n",
       "      <td>38.4</td>\n",
       "      <td>4.17</td>\n",
       "      <td>31.4</td>\n",
       "      <td>12900</td>\n",
       "      <td>16.10</td>\n",
       "      <td>76.5</td>\n",
       "      <td>2.89</td>\n",
       "      <td>4460</td>\n",
       "    </tr>\n",
       "  </tbody>\n",
       "</table>\n",
       "</div>"
      ],
      "text/plain": [
       "       country  child_mort  exports  health  imports  income  inflation  \\\n",
       "0  Afghanistan        90.2     10.0    7.58     44.9    1610       9.44   \n",
       "1      Albania        16.6     28.0    6.55     48.6    9930       4.49   \n",
       "2      Algeria        27.3     38.4    4.17     31.4   12900      16.10   \n",
       "\n",
       "   life_expec  total_fer  gdpp  \n",
       "0        56.2       5.82   553  \n",
       "1        76.3       1.65  4090  \n",
       "2        76.5       2.89  4460  "
      ]
     },
     "execution_count": 53,
     "metadata": {},
     "output_type": "execute_result"
    }
   ],
   "source": [
    "df = pd.read_csv('Country-data.csv')\n",
    "df.head(3)"
   ]
  },
  {
   "cell_type": "code",
   "execution_count": 54,
   "id": "488ae4d5",
   "metadata": {
    "scrolled": false
   },
   "outputs": [
    {
     "data": {
      "text/html": [
       "<div>\n",
       "<style scoped>\n",
       "    .dataframe tbody tr th:only-of-type {\n",
       "        vertical-align: middle;\n",
       "    }\n",
       "\n",
       "    .dataframe tbody tr th {\n",
       "        vertical-align: top;\n",
       "    }\n",
       "\n",
       "    .dataframe thead th {\n",
       "        text-align: right;\n",
       "    }\n",
       "</style>\n",
       "<table border=\"1\" class=\"dataframe\">\n",
       "  <thead>\n",
       "    <tr style=\"text-align: right;\">\n",
       "      <th></th>\n",
       "      <th>Column Name</th>\n",
       "      <th>Description</th>\n",
       "    </tr>\n",
       "  </thead>\n",
       "  <tbody>\n",
       "    <tr>\n",
       "      <th>0</th>\n",
       "      <td>country</td>\n",
       "      <td>Name of the country</td>\n",
       "    </tr>\n",
       "    <tr>\n",
       "      <th>1</th>\n",
       "      <td>child_mort</td>\n",
       "      <td>Death of children under 5 years of age per 100...</td>\n",
       "    </tr>\n",
       "    <tr>\n",
       "      <th>2</th>\n",
       "      <td>exports</td>\n",
       "      <td>Exports of goods and services. Given as %age o...</td>\n",
       "    </tr>\n",
       "    <tr>\n",
       "      <th>3</th>\n",
       "      <td>health</td>\n",
       "      <td>Total health spending as %age of Total GDP</td>\n",
       "    </tr>\n",
       "    <tr>\n",
       "      <th>4</th>\n",
       "      <td>imports</td>\n",
       "      <td>Imports of goods and services. Given as %age o...</td>\n",
       "    </tr>\n",
       "    <tr>\n",
       "      <th>5</th>\n",
       "      <td>Income</td>\n",
       "      <td>Net income per person</td>\n",
       "    </tr>\n",
       "    <tr>\n",
       "      <th>6</th>\n",
       "      <td>Inflation</td>\n",
       "      <td>The measurement of the annual growth rate of t...</td>\n",
       "    </tr>\n",
       "    <tr>\n",
       "      <th>7</th>\n",
       "      <td>life_expec</td>\n",
       "      <td>The average number of years a new born child w...</td>\n",
       "    </tr>\n",
       "    <tr>\n",
       "      <th>8</th>\n",
       "      <td>total_fer</td>\n",
       "      <td>The number of children that would be born to e...</td>\n",
       "    </tr>\n",
       "    <tr>\n",
       "      <th>9</th>\n",
       "      <td>gdpp</td>\n",
       "      <td>The GDP per capita. Calculated as the Total GD...</td>\n",
       "    </tr>\n",
       "  </tbody>\n",
       "</table>\n",
       "</div>"
      ],
      "text/plain": [
       "  Column Name                                        Description\n",
       "0     country                                Name of the country\n",
       "1  child_mort  Death of children under 5 years of age per 100...\n",
       "2     exports  Exports of goods and services. Given as %age o...\n",
       "3      health         Total health spending as %age of Total GDP\n",
       "4     imports  Imports of goods and services. Given as %age o...\n",
       "5      Income                              Net income per person\n",
       "6   Inflation  The measurement of the annual growth rate of t...\n",
       "7  life_expec  The average number of years a new born child w...\n",
       "8   total_fer  The number of children that would be born to e...\n",
       "9        gdpp  The GDP per capita. Calculated as the Total GD..."
      ]
     },
     "execution_count": 54,
     "metadata": {},
     "output_type": "execute_result"
    }
   ],
   "source": [
    "dict = pd.read_csv('data-dictionary.csv')\n",
    "pd.set_option('display.max_columns', None)  \n",
    "dict"
   ]
  },
  {
   "cell_type": "markdown",
   "id": "51406b21",
   "metadata": {},
   "source": [
    "Need to change values of columns from percentages to absolutes"
   ]
  },
  {
   "cell_type": "code",
   "execution_count": 55,
   "id": "b6274dbd",
   "metadata": {},
   "outputs": [],
   "source": [
    "# Change values from % to absolute\n",
    "df['exports'] = df['exports']*df['gdpp']/100\n",
    "df['imports'] = df['imports']*df['gdpp']/100\n",
    "df['health'] = df['health']*df['gdpp']/100"
   ]
  },
  {
   "cell_type": "code",
   "execution_count": 56,
   "id": "94e588c4",
   "metadata": {},
   "outputs": [
    {
     "data": {
      "text/html": [
       "<div>\n",
       "<style scoped>\n",
       "    .dataframe tbody tr th:only-of-type {\n",
       "        vertical-align: middle;\n",
       "    }\n",
       "\n",
       "    .dataframe tbody tr th {\n",
       "        vertical-align: top;\n",
       "    }\n",
       "\n",
       "    .dataframe thead th {\n",
       "        text-align: right;\n",
       "    }\n",
       "</style>\n",
       "<table border=\"1\" class=\"dataframe\">\n",
       "  <thead>\n",
       "    <tr style=\"text-align: right;\">\n",
       "      <th></th>\n",
       "      <th>country</th>\n",
       "      <th>child_mort</th>\n",
       "      <th>exports</th>\n",
       "      <th>health</th>\n",
       "      <th>imports</th>\n",
       "      <th>income</th>\n",
       "      <th>inflation</th>\n",
       "      <th>life_expec</th>\n",
       "      <th>total_fer</th>\n",
       "      <th>gdpp</th>\n",
       "    </tr>\n",
       "  </thead>\n",
       "  <tbody>\n",
       "    <tr>\n",
       "      <th>0</th>\n",
       "      <td>Afghanistan</td>\n",
       "      <td>90.2</td>\n",
       "      <td>55.30</td>\n",
       "      <td>41.9174</td>\n",
       "      <td>248.297</td>\n",
       "      <td>1610</td>\n",
       "      <td>9.44</td>\n",
       "      <td>56.2</td>\n",
       "      <td>5.82</td>\n",
       "      <td>553</td>\n",
       "    </tr>\n",
       "    <tr>\n",
       "      <th>1</th>\n",
       "      <td>Albania</td>\n",
       "      <td>16.6</td>\n",
       "      <td>1145.20</td>\n",
       "      <td>267.8950</td>\n",
       "      <td>1987.740</td>\n",
       "      <td>9930</td>\n",
       "      <td>4.49</td>\n",
       "      <td>76.3</td>\n",
       "      <td>1.65</td>\n",
       "      <td>4090</td>\n",
       "    </tr>\n",
       "    <tr>\n",
       "      <th>2</th>\n",
       "      <td>Algeria</td>\n",
       "      <td>27.3</td>\n",
       "      <td>1712.64</td>\n",
       "      <td>185.9820</td>\n",
       "      <td>1400.440</td>\n",
       "      <td>12900</td>\n",
       "      <td>16.10</td>\n",
       "      <td>76.5</td>\n",
       "      <td>2.89</td>\n",
       "      <td>4460</td>\n",
       "    </tr>\n",
       "  </tbody>\n",
       "</table>\n",
       "</div>"
      ],
      "text/plain": [
       "       country  child_mort  exports    health   imports  income  inflation  \\\n",
       "0  Afghanistan        90.2    55.30   41.9174   248.297    1610       9.44   \n",
       "1      Albania        16.6  1145.20  267.8950  1987.740    9930       4.49   \n",
       "2      Algeria        27.3  1712.64  185.9820  1400.440   12900      16.10   \n",
       "\n",
       "   life_expec  total_fer  gdpp  \n",
       "0        56.2       5.82   553  \n",
       "1        76.3       1.65  4090  \n",
       "2        76.5       2.89  4460  "
      ]
     },
     "execution_count": 56,
     "metadata": {},
     "output_type": "execute_result"
    }
   ],
   "source": [
    "df.head(3)"
   ]
  },
  {
   "cell_type": "markdown",
   "id": "0136b8b3",
   "metadata": {},
   "source": [
    "# EDA"
   ]
  },
  {
   "cell_type": "code",
   "execution_count": 57,
   "id": "994721ef",
   "metadata": {
    "scrolled": false
   },
   "outputs": [
    {
     "name": "stdout",
     "output_type": "stream",
     "text": [
      "<class 'pandas.core.frame.DataFrame'>\n",
      "RangeIndex: 167 entries, 0 to 166\n",
      "Data columns (total 10 columns):\n",
      " #   Column      Non-Null Count  Dtype  \n",
      "---  ------      --------------  -----  \n",
      " 0   country     167 non-null    object \n",
      " 1   child_mort  167 non-null    float64\n",
      " 2   exports     167 non-null    float64\n",
      " 3   health      167 non-null    float64\n",
      " 4   imports     167 non-null    float64\n",
      " 5   income      167 non-null    int64  \n",
      " 6   inflation   167 non-null    float64\n",
      " 7   life_expec  167 non-null    float64\n",
      " 8   total_fer   167 non-null    float64\n",
      " 9   gdpp        167 non-null    int64  \n",
      "dtypes: float64(7), int64(2), object(1)\n",
      "memory usage: 13.2+ KB\n"
     ]
    }
   ],
   "source": [
    "df.info()"
   ]
  },
  {
   "cell_type": "markdown",
   "id": "68e6e9a7",
   "metadata": {},
   "source": [
    "No need to change data types"
   ]
  },
  {
   "cell_type": "code",
   "execution_count": 58,
   "id": "97f0dc0a",
   "metadata": {},
   "outputs": [
    {
     "data": {
      "text/plain": [
       "country       0\n",
       "child_mort    0\n",
       "exports       0\n",
       "health        0\n",
       "imports       0\n",
       "income        0\n",
       "inflation     0\n",
       "life_expec    0\n",
       "total_fer     0\n",
       "gdpp          0\n",
       "dtype: int64"
      ]
     },
     "execution_count": 58,
     "metadata": {},
     "output_type": "execute_result"
    }
   ],
   "source": [
    "df.isnull().sum()"
   ]
  },
  {
   "cell_type": "code",
   "execution_count": 59,
   "id": "e5ce3d3a",
   "metadata": {},
   "outputs": [
    {
     "data": {
      "text/plain": [
       "country       0\n",
       "child_mort    0\n",
       "exports       0\n",
       "health        0\n",
       "imports       0\n",
       "income        0\n",
       "inflation     0\n",
       "life_expec    0\n",
       "total_fer     0\n",
       "gdpp          0\n",
       "dtype: int64"
      ]
     },
     "execution_count": 59,
     "metadata": {},
     "output_type": "execute_result"
    }
   ],
   "source": [
    "df.isna().sum()"
   ]
  },
  {
   "cell_type": "markdown",
   "id": "c9ebae13",
   "metadata": {},
   "source": [
    "No null values"
   ]
  },
  {
   "cell_type": "code",
   "execution_count": 60,
   "id": "ce02026a",
   "metadata": {},
   "outputs": [
    {
     "data": {
      "text/plain": [
       "0"
      ]
     },
     "execution_count": 60,
     "metadata": {},
     "output_type": "execute_result"
    }
   ],
   "source": [
    "df.duplicated().sum()"
   ]
  },
  {
   "cell_type": "markdown",
   "id": "a5239cdb",
   "metadata": {},
   "source": [
    "No duplicates values"
   ]
  },
  {
   "cell_type": "code",
   "execution_count": 61,
   "id": "3694a470",
   "metadata": {},
   "outputs": [
    {
     "data": {
      "text/html": [
       "<div>\n",
       "<style scoped>\n",
       "    .dataframe tbody tr th:only-of-type {\n",
       "        vertical-align: middle;\n",
       "    }\n",
       "\n",
       "    .dataframe tbody tr th {\n",
       "        vertical-align: top;\n",
       "    }\n",
       "\n",
       "    .dataframe thead th {\n",
       "        text-align: right;\n",
       "    }\n",
       "</style>\n",
       "<table border=\"1\" class=\"dataframe\">\n",
       "  <thead>\n",
       "    <tr style=\"text-align: right;\">\n",
       "      <th></th>\n",
       "      <th>child_mort</th>\n",
       "      <th>exports</th>\n",
       "      <th>health</th>\n",
       "      <th>imports</th>\n",
       "      <th>income</th>\n",
       "      <th>inflation</th>\n",
       "      <th>life_expec</th>\n",
       "      <th>total_fer</th>\n",
       "      <th>gdpp</th>\n",
       "    </tr>\n",
       "  </thead>\n",
       "  <tbody>\n",
       "    <tr>\n",
       "      <th>count</th>\n",
       "      <td>167.0</td>\n",
       "      <td>167.0</td>\n",
       "      <td>167.0</td>\n",
       "      <td>167.0</td>\n",
       "      <td>167.0</td>\n",
       "      <td>167.0</td>\n",
       "      <td>167.0</td>\n",
       "      <td>167.0</td>\n",
       "      <td>167.0</td>\n",
       "    </tr>\n",
       "    <tr>\n",
       "      <th>mean</th>\n",
       "      <td>38.0</td>\n",
       "      <td>7421.0</td>\n",
       "      <td>1057.0</td>\n",
       "      <td>6588.0</td>\n",
       "      <td>17145.0</td>\n",
       "      <td>8.0</td>\n",
       "      <td>71.0</td>\n",
       "      <td>3.0</td>\n",
       "      <td>12964.0</td>\n",
       "    </tr>\n",
       "    <tr>\n",
       "      <th>std</th>\n",
       "      <td>40.0</td>\n",
       "      <td>17974.0</td>\n",
       "      <td>1801.0</td>\n",
       "      <td>14711.0</td>\n",
       "      <td>19278.0</td>\n",
       "      <td>11.0</td>\n",
       "      <td>9.0</td>\n",
       "      <td>2.0</td>\n",
       "      <td>18329.0</td>\n",
       "    </tr>\n",
       "    <tr>\n",
       "      <th>min</th>\n",
       "      <td>3.0</td>\n",
       "      <td>1.0</td>\n",
       "      <td>13.0</td>\n",
       "      <td>1.0</td>\n",
       "      <td>609.0</td>\n",
       "      <td>-4.0</td>\n",
       "      <td>32.0</td>\n",
       "      <td>1.0</td>\n",
       "      <td>231.0</td>\n",
       "    </tr>\n",
       "    <tr>\n",
       "      <th>25%</th>\n",
       "      <td>8.0</td>\n",
       "      <td>447.0</td>\n",
       "      <td>79.0</td>\n",
       "      <td>640.0</td>\n",
       "      <td>3355.0</td>\n",
       "      <td>2.0</td>\n",
       "      <td>65.0</td>\n",
       "      <td>2.0</td>\n",
       "      <td>1330.0</td>\n",
       "    </tr>\n",
       "    <tr>\n",
       "      <th>50%</th>\n",
       "      <td>19.0</td>\n",
       "      <td>1777.0</td>\n",
       "      <td>322.0</td>\n",
       "      <td>2046.0</td>\n",
       "      <td>9960.0</td>\n",
       "      <td>5.0</td>\n",
       "      <td>73.0</td>\n",
       "      <td>2.0</td>\n",
       "      <td>4660.0</td>\n",
       "    </tr>\n",
       "    <tr>\n",
       "      <th>75%</th>\n",
       "      <td>62.0</td>\n",
       "      <td>7278.0</td>\n",
       "      <td>977.0</td>\n",
       "      <td>7720.0</td>\n",
       "      <td>22800.0</td>\n",
       "      <td>11.0</td>\n",
       "      <td>77.0</td>\n",
       "      <td>4.0</td>\n",
       "      <td>14050.0</td>\n",
       "    </tr>\n",
       "    <tr>\n",
       "      <th>max</th>\n",
       "      <td>208.0</td>\n",
       "      <td>183750.0</td>\n",
       "      <td>8664.0</td>\n",
       "      <td>149100.0</td>\n",
       "      <td>125000.0</td>\n",
       "      <td>104.0</td>\n",
       "      <td>83.0</td>\n",
       "      <td>7.0</td>\n",
       "      <td>105000.0</td>\n",
       "    </tr>\n",
       "  </tbody>\n",
       "</table>\n",
       "</div>"
      ],
      "text/plain": [
       "       child_mort   exports  health   imports    income  inflation  \\\n",
       "count       167.0     167.0   167.0     167.0     167.0      167.0   \n",
       "mean         38.0    7421.0  1057.0    6588.0   17145.0        8.0   \n",
       "std          40.0   17974.0  1801.0   14711.0   19278.0       11.0   \n",
       "min           3.0       1.0    13.0       1.0     609.0       -4.0   \n",
       "25%           8.0     447.0    79.0     640.0    3355.0        2.0   \n",
       "50%          19.0    1777.0   322.0    2046.0    9960.0        5.0   \n",
       "75%          62.0    7278.0   977.0    7720.0   22800.0       11.0   \n",
       "max         208.0  183750.0  8664.0  149100.0  125000.0      104.0   \n",
       "\n",
       "       life_expec  total_fer      gdpp  \n",
       "count       167.0      167.0     167.0  \n",
       "mean         71.0        3.0   12964.0  \n",
       "std           9.0        2.0   18329.0  \n",
       "min          32.0        1.0     231.0  \n",
       "25%          65.0        2.0    1330.0  \n",
       "50%          73.0        2.0    4660.0  \n",
       "75%          77.0        4.0   14050.0  \n",
       "max          83.0        7.0  105000.0  "
      ]
     },
     "execution_count": 61,
     "metadata": {},
     "output_type": "execute_result"
    }
   ],
   "source": [
    "df.describe().round()"
   ]
  },
  {
   "cell_type": "markdown",
   "id": "62e8be09",
   "metadata": {},
   "source": [
    "Need to scale data"
   ]
  },
  {
   "cell_type": "code",
   "execution_count": 62,
   "id": "eddd5286",
   "metadata": {
    "scrolled": true
   },
   "outputs": [
    {
     "data": {
      "image/png": "[encoded data removed]",
      "text/plain": [
       "<Figure size 864x576 with 1 Axes>"
      ]
     },
     "metadata": {
      "needs_background": "light"
     },
     "output_type": "display_data"
    }
   ],
   "source": [
    "plt.figure(figsize = (12,8))\n",
    "sns.boxplot(data=df);"
   ]
  },
  {
   "cell_type": "markdown",
   "id": "98383fc9",
   "metadata": {},
   "source": [
    "There are outliers for the exports, imports, income and gdpp columns. Will need Min Max Scaler"
   ]
  },
  {
   "cell_type": "code",
   "execution_count": 63,
   "id": "8051c46b",
   "metadata": {},
   "outputs": [
    {
     "data": {
      "image/png": "[encoded data removed]",
      "text/plain": [
       "<Figure size 864x576 with 9 Axes>"
      ]
     },
     "metadata": {
      "needs_background": "light"
     },
     "output_type": "display_data"
    }
   ],
   "source": [
    "df.hist(figsize=(12,8));"
   ]
  },
  {
   "cell_type": "markdown",
   "id": "e1c5bd00",
   "metadata": {},
   "source": [
    "Data needs to be normalised"
   ]
  },
  {
   "cell_type": "code",
   "execution_count": 64,
   "id": "63a903ab",
   "metadata": {
    "scrolled": true
   },
   "outputs": [
    {
     "data": {
      "text/plain": [
       "array(['Afghanistan', 'Albania', 'Algeria', 'Angola',\n",
       "       'Antigua and Barbuda', 'Argentina', 'Armenia', 'Australia',\n",
       "       'Austria', 'Azerbaijan', 'Bahamas', 'Bahrain', 'Bangladesh',\n",
       "       'Barbados', 'Belarus', 'Belgium', 'Belize', 'Benin', 'Bhutan',\n",
       "       'Bolivia', 'Bosnia and Herzegovina', 'Botswana', 'Brazil',\n",
       "       'Brunei', 'Bulgaria', 'Burkina Faso', 'Burundi', 'Cambodia',\n",
       "       'Cameroon', 'Canada', 'Cape Verde', 'Central African Republic',\n",
       "       'Chad', 'Chile', 'China', 'Colombia', 'Comoros',\n",
       "       'Congo, Dem. Rep.', 'Congo, Rep.', 'Costa Rica', \"Cote d'Ivoire\",\n",
       "       'Croatia', 'Cyprus', 'Czech Republic', 'Denmark',\n",
       "       'Dominican Republic', 'Ecuador', 'Egypt', 'El Salvador',\n",
       "       'Equatorial Guinea', 'Eritrea', 'Estonia', 'Fiji', 'Finland',\n",
       "       'France', 'Gabon', 'Gambia', 'Georgia', 'Germany', 'Ghana',\n",
       "       'Greece', 'Grenada', 'Guatemala', 'Guinea', 'Guinea-Bissau',\n",
       "       'Guyana', 'Haiti', 'Hungary', 'Iceland', 'India', 'Indonesia',\n",
       "       'Iran', 'Iraq', 'Ireland', 'Israel', 'Italy', 'Jamaica', 'Japan',\n",
       "       'Jordan', 'Kazakhstan', 'Kenya', 'Kiribati', 'Kuwait',\n",
       "       'Kyrgyz Republic', 'Lao', 'Latvia', 'Lebanon', 'Lesotho',\n",
       "       'Liberia', 'Libya', 'Lithuania', 'Luxembourg', 'Macedonia, FYR',\n",
       "       'Madagascar', 'Malawi', 'Malaysia', 'Maldives', 'Mali', 'Malta',\n",
       "       'Mauritania', 'Mauritius', 'Micronesia, Fed. Sts.', 'Moldova',\n",
       "       'Mongolia', 'Montenegro', 'Morocco', 'Mozambique', 'Myanmar',\n",
       "       'Namibia', 'Nepal', 'Netherlands', 'New Zealand', 'Niger',\n",
       "       'Nigeria', 'Norway', 'Oman', 'Pakistan', 'Panama', 'Paraguay',\n",
       "       'Peru', 'Philippines', 'Poland', 'Portugal', 'Qatar', 'Romania',\n",
       "       'Russia', 'Rwanda', 'Samoa', 'Saudi Arabia', 'Senegal', 'Serbia',\n",
       "       'Seychelles', 'Sierra Leone', 'Singapore', 'Slovak Republic',\n",
       "       'Slovenia', 'Solomon Islands', 'South Africa', 'South Korea',\n",
       "       'Spain', 'Sri Lanka', 'St. Vincent and the Grenadines', 'Sudan',\n",
       "       'Suriname', 'Sweden', 'Switzerland', 'Tajikistan', 'Tanzania',\n",
       "       'Thailand', 'Timor-Leste', 'Togo', 'Tonga', 'Tunisia', 'Turkey',\n",
       "       'Turkmenistan', 'Uganda', 'Ukraine', 'United Arab Emirates',\n",
       "       'United Kingdom', 'United States', 'Uruguay', 'Uzbekistan',\n",
       "       'Vanuatu', 'Venezuela', 'Vietnam', 'Yemen', 'Zambia'], dtype=object)"
      ]
     },
     "execution_count": 64,
     "metadata": {},
     "output_type": "execute_result"
    }
   ],
   "source": [
    "df.country.unique()"
   ]
  },
  {
   "cell_type": "markdown",
   "id": "e589277c",
   "metadata": {},
   "source": [
    "Categories are tidy"
   ]
  },
  {
   "cell_type": "code",
   "execution_count": 65,
   "id": "4a66f90a",
   "metadata": {
    "scrolled": false
   },
   "outputs": [
    {
     "data": {
      "image/png": "[encoded data removed]",
      "text/plain": [
       "<Figure size 576x432 with 2 Axes>"
      ]
     },
     "metadata": {
      "needs_background": "light"
     },
     "output_type": "display_data"
    }
   ],
   "source": [
    "# Check for multi-colinearity\n",
    "plt.figure(figsize=(8,6))\n",
    "sns.heatmap(df.corr(), annot=True,cmap='coolwarm');"
   ]
  },
  {
   "cell_type": "markdown",
   "id": "73d30f7f",
   "metadata": {},
   "source": [
    "Imports and exports almost perfectly correlated; income and gdpp as well"
   ]
  },
  {
   "cell_type": "markdown",
   "id": "f11a1c53",
   "metadata": {},
   "source": [
    "# Scale and prepare data for PCA"
   ]
  },
  {
   "cell_type": "code",
   "execution_count": 66,
   "id": "47e320de",
   "metadata": {},
   "outputs": [
    {
     "data": {
      "text/html": [
       "<div>\n",
       "<style scoped>\n",
       "    .dataframe tbody tr th:only-of-type {\n",
       "        vertical-align: middle;\n",
       "    }\n",
       "\n",
       "    .dataframe tbody tr th {\n",
       "        vertical-align: top;\n",
       "    }\n",
       "\n",
       "    .dataframe thead th {\n",
       "        text-align: right;\n",
       "    }\n",
       "</style>\n",
       "<table border=\"1\" class=\"dataframe\">\n",
       "  <thead>\n",
       "    <tr style=\"text-align: right;\">\n",
       "      <th></th>\n",
       "      <th>child_mort</th>\n",
       "      <th>exports</th>\n",
       "      <th>health</th>\n",
       "      <th>income</th>\n",
       "      <th>inflation</th>\n",
       "      <th>life_expec</th>\n",
       "      <th>total_fer</th>\n",
       "      <th>gdpp</th>\n",
       "    </tr>\n",
       "  </thead>\n",
       "  <tbody>\n",
       "    <tr>\n",
       "      <th>0</th>\n",
       "      <td>90.2</td>\n",
       "      <td>55.30</td>\n",
       "      <td>41.9174</td>\n",
       "      <td>1610</td>\n",
       "      <td>9.44</td>\n",
       "      <td>56.2</td>\n",
       "      <td>5.82</td>\n",
       "      <td>553</td>\n",
       "    </tr>\n",
       "    <tr>\n",
       "      <th>1</th>\n",
       "      <td>16.6</td>\n",
       "      <td>1145.20</td>\n",
       "      <td>267.8950</td>\n",
       "      <td>9930</td>\n",
       "      <td>4.49</td>\n",
       "      <td>76.3</td>\n",
       "      <td>1.65</td>\n",
       "      <td>4090</td>\n",
       "    </tr>\n",
       "    <tr>\n",
       "      <th>2</th>\n",
       "      <td>27.3</td>\n",
       "      <td>1712.64</td>\n",
       "      <td>185.9820</td>\n",
       "      <td>12900</td>\n",
       "      <td>16.10</td>\n",
       "      <td>76.5</td>\n",
       "      <td>2.89</td>\n",
       "      <td>4460</td>\n",
       "    </tr>\n",
       "    <tr>\n",
       "      <th>3</th>\n",
       "      <td>119.0</td>\n",
       "      <td>2199.19</td>\n",
       "      <td>100.6050</td>\n",
       "      <td>5900</td>\n",
       "      <td>22.40</td>\n",
       "      <td>60.1</td>\n",
       "      <td>6.16</td>\n",
       "      <td>3530</td>\n",
       "    </tr>\n",
       "    <tr>\n",
       "      <th>4</th>\n",
       "      <td>10.3</td>\n",
       "      <td>5551.00</td>\n",
       "      <td>735.6600</td>\n",
       "      <td>19100</td>\n",
       "      <td>1.44</td>\n",
       "      <td>76.8</td>\n",
       "      <td>2.13</td>\n",
       "      <td>12200</td>\n",
       "    </tr>\n",
       "    <tr>\n",
       "      <th>...</th>\n",
       "      <td>...</td>\n",
       "      <td>...</td>\n",
       "      <td>...</td>\n",
       "      <td>...</td>\n",
       "      <td>...</td>\n",
       "      <td>...</td>\n",
       "      <td>...</td>\n",
       "      <td>...</td>\n",
       "    </tr>\n",
       "    <tr>\n",
       "      <th>162</th>\n",
       "      <td>29.2</td>\n",
       "      <td>1384.02</td>\n",
       "      <td>155.9250</td>\n",
       "      <td>2950</td>\n",
       "      <td>2.62</td>\n",
       "      <td>63.0</td>\n",
       "      <td>3.50</td>\n",
       "      <td>2970</td>\n",
       "    </tr>\n",
       "    <tr>\n",
       "      <th>163</th>\n",
       "      <td>17.1</td>\n",
       "      <td>3847.50</td>\n",
       "      <td>662.8500</td>\n",
       "      <td>16500</td>\n",
       "      <td>45.90</td>\n",
       "      <td>75.4</td>\n",
       "      <td>2.47</td>\n",
       "      <td>13500</td>\n",
       "    </tr>\n",
       "    <tr>\n",
       "      <th>164</th>\n",
       "      <td>23.3</td>\n",
       "      <td>943.20</td>\n",
       "      <td>89.6040</td>\n",
       "      <td>4490</td>\n",
       "      <td>12.10</td>\n",
       "      <td>73.1</td>\n",
       "      <td>1.95</td>\n",
       "      <td>1310</td>\n",
       "    </tr>\n",
       "    <tr>\n",
       "      <th>165</th>\n",
       "      <td>56.3</td>\n",
       "      <td>393.00</td>\n",
       "      <td>67.8580</td>\n",
       "      <td>4480</td>\n",
       "      <td>23.60</td>\n",
       "      <td>67.5</td>\n",
       "      <td>4.67</td>\n",
       "      <td>1310</td>\n",
       "    </tr>\n",
       "    <tr>\n",
       "      <th>166</th>\n",
       "      <td>83.1</td>\n",
       "      <td>540.20</td>\n",
       "      <td>85.9940</td>\n",
       "      <td>3280</td>\n",
       "      <td>14.00</td>\n",
       "      <td>52.0</td>\n",
       "      <td>5.40</td>\n",
       "      <td>1460</td>\n",
       "    </tr>\n",
       "  </tbody>\n",
       "</table>\n",
       "<p>167 rows × 8 columns</p>\n",
       "</div>"
      ],
      "text/plain": [
       "     child_mort  exports    health  income  inflation  life_expec  total_fer  \\\n",
       "0          90.2    55.30   41.9174    1610       9.44        56.2       5.82   \n",
       "1          16.6  1145.20  267.8950    9930       4.49        76.3       1.65   \n",
       "2          27.3  1712.64  185.9820   12900      16.10        76.5       2.89   \n",
       "3         119.0  2199.19  100.6050    5900      22.40        60.1       6.16   \n",
       "4          10.3  5551.00  735.6600   19100       1.44        76.8       2.13   \n",
       "..          ...      ...       ...     ...        ...         ...        ...   \n",
       "162        29.2  1384.02  155.9250    2950       2.62        63.0       3.50   \n",
       "163        17.1  3847.50  662.8500   16500      45.90        75.4       2.47   \n",
       "164        23.3   943.20   89.6040    4490      12.10        73.1       1.95   \n",
       "165        56.3   393.00   67.8580    4480      23.60        67.5       4.67   \n",
       "166        83.1   540.20   85.9940    3280      14.00        52.0       5.40   \n",
       "\n",
       "      gdpp  \n",
       "0      553  \n",
       "1     4090  \n",
       "2     4460  \n",
       "3     3530  \n",
       "4    12200  \n",
       "..     ...  \n",
       "162   2970  \n",
       "163  13500  \n",
       "164   1310  \n",
       "165   1310  \n",
       "166   1460  \n",
       "\n",
       "[167 rows x 8 columns]"
      ]
     },
     "execution_count": 66,
     "metadata": {},
     "output_type": "execute_result"
    }
   ],
   "source": [
    "# Drop non-numerical and redundant features\n",
    "df1 = df.drop(columns=['country','imports'])\n",
    "df1"
   ]
  },
  {
   "cell_type": "code",
   "execution_count": 67,
   "id": "00980dda",
   "metadata": {},
   "outputs": [],
   "source": [
    "scaler = MinMaxScaler()\n",
    "scaler.fit(df1)\n",
    "df_scaled = pd.DataFrame(scaler.transform(df1),columns=df1.columns)"
   ]
  },
  {
   "cell_type": "code",
   "execution_count": 68,
   "id": "78ac17c7",
   "metadata": {},
   "outputs": [
    {
     "data": {
      "text/html": [
       "<div>\n",
       "<style scoped>\n",
       "    .dataframe tbody tr th:only-of-type {\n",
       "        vertical-align: middle;\n",
       "    }\n",
       "\n",
       "    .dataframe tbody tr th {\n",
       "        vertical-align: top;\n",
       "    }\n",
       "\n",
       "    .dataframe thead th {\n",
       "        text-align: right;\n",
       "    }\n",
       "</style>\n",
       "<table border=\"1\" class=\"dataframe\">\n",
       "  <thead>\n",
       "    <tr style=\"text-align: right;\">\n",
       "      <th></th>\n",
       "      <th>child_mort</th>\n",
       "      <th>exports</th>\n",
       "      <th>health</th>\n",
       "      <th>income</th>\n",
       "      <th>inflation</th>\n",
       "      <th>life_expec</th>\n",
       "      <th>total_fer</th>\n",
       "      <th>gdpp</th>\n",
       "    </tr>\n",
       "  </thead>\n",
       "  <tbody>\n",
       "    <tr>\n",
       "      <th>0</th>\n",
       "      <td>0.426485</td>\n",
       "      <td>0.000295</td>\n",
       "      <td>0.003363</td>\n",
       "      <td>0.008047</td>\n",
       "      <td>0.126144</td>\n",
       "      <td>0.475345</td>\n",
       "      <td>0.736593</td>\n",
       "      <td>0.003073</td>\n",
       "    </tr>\n",
       "    <tr>\n",
       "      <th>1</th>\n",
       "      <td>0.068160</td>\n",
       "      <td>0.006227</td>\n",
       "      <td>0.029486</td>\n",
       "      <td>0.074933</td>\n",
       "      <td>0.080399</td>\n",
       "      <td>0.871795</td>\n",
       "      <td>0.078864</td>\n",
       "      <td>0.036833</td>\n",
       "    </tr>\n",
       "  </tbody>\n",
       "</table>\n",
       "</div>"
      ],
      "text/plain": [
       "   child_mort   exports    health    income  inflation  life_expec  total_fer  \\\n",
       "0    0.426485  0.000295  0.003363  0.008047   0.126144    0.475345   0.736593   \n",
       "1    0.068160  0.006227  0.029486  0.074933   0.080399    0.871795   0.078864   \n",
       "\n",
       "       gdpp  \n",
       "0  0.003073  \n",
       "1  0.036833  "
      ]
     },
     "execution_count": 68,
     "metadata": {},
     "output_type": "execute_result"
    }
   ],
   "source": [
    "df_scaled.head(2)"
   ]
  },
  {
   "cell_type": "markdown",
   "id": "778f64c1",
   "metadata": {},
   "source": [
    "# PCA"
   ]
  },
  {
   "cell_type": "code",
   "execution_count": 69,
   "id": "32a21878",
   "metadata": {},
   "outputs": [],
   "source": [
    "# Fit PCA model\n",
    "pca = PCA()\n",
    "X_proj = pca.fit_transform(df_scaled)"
   ]
  },
  {
   "cell_type": "code",
   "execution_count": 70,
   "id": "14e8e5cd",
   "metadata": {},
   "outputs": [
    {
     "data": {
      "text/html": [
       "<div>\n",
       "<style scoped>\n",
       "    .dataframe tbody tr th:only-of-type {\n",
       "        vertical-align: middle;\n",
       "    }\n",
       "\n",
       "    .dataframe tbody tr th {\n",
       "        vertical-align: top;\n",
       "    }\n",
       "\n",
       "    .dataframe thead th {\n",
       "        text-align: right;\n",
       "    }\n",
       "</style>\n",
       "<table border=\"1\" class=\"dataframe\">\n",
       "  <thead>\n",
       "    <tr style=\"text-align: right;\">\n",
       "      <th></th>\n",
       "      <th>PC1</th>\n",
       "      <th>PC2</th>\n",
       "      <th>PC3</th>\n",
       "      <th>PC4</th>\n",
       "      <th>PC5</th>\n",
       "      <th>PC6</th>\n",
       "      <th>PC7</th>\n",
       "      <th>PC8</th>\n",
       "    </tr>\n",
       "  </thead>\n",
       "  <tbody>\n",
       "    <tr>\n",
       "      <th>0</th>\n",
       "      <td>-0.580813</td>\n",
       "      <td>0.217077</td>\n",
       "      <td>-0.001280</td>\n",
       "      <td>-0.046192</td>\n",
       "      <td>-0.054438</td>\n",
       "      <td>0.025069</td>\n",
       "      <td>-0.065890</td>\n",
       "      <td>0.001628</td>\n",
       "    </tr>\n",
       "    <tr>\n",
       "      <th>1</th>\n",
       "      <td>0.103731</td>\n",
       "      <td>-0.269895</td>\n",
       "      <td>-0.024640</td>\n",
       "      <td>0.004070</td>\n",
       "      <td>0.003514</td>\n",
       "      <td>-0.003896</td>\n",
       "      <td>0.050684</td>\n",
       "      <td>0.001568</td>\n",
       "    </tr>\n",
       "    <tr>\n",
       "      <th>2</th>\n",
       "      <td>-0.018388</td>\n",
       "      <td>-0.147006</td>\n",
       "      <td>0.100330</td>\n",
       "      <td>-0.078066</td>\n",
       "      <td>0.030409</td>\n",
       "      <td>-0.007906</td>\n",
       "      <td>0.047666</td>\n",
       "      <td>0.008517</td>\n",
       "    </tr>\n",
       "    <tr>\n",
       "      <th>3</th>\n",
       "      <td>-0.621322</td>\n",
       "      <td>0.313491</td>\n",
       "      <td>0.096888</td>\n",
       "      <td>-0.054168</td>\n",
       "      <td>0.030748</td>\n",
       "      <td>-0.028140</td>\n",
       "      <td>0.053453</td>\n",
       "      <td>-0.001336</td>\n",
       "    </tr>\n",
       "    <tr>\n",
       "      <th>4</th>\n",
       "      <td>0.160906</td>\n",
       "      <td>-0.159981</td>\n",
       "      <td>0.009582</td>\n",
       "      <td>-0.026394</td>\n",
       "      <td>-0.055285</td>\n",
       "      <td>-0.009319</td>\n",
       "      <td>0.011721</td>\n",
       "      <td>-0.004409</td>\n",
       "    </tr>\n",
       "    <tr>\n",
       "      <th>...</th>\n",
       "      <td>...</td>\n",
       "      <td>...</td>\n",
       "      <td>...</td>\n",
       "      <td>...</td>\n",
       "      <td>...</td>\n",
       "      <td>...</td>\n",
       "      <td>...</td>\n",
       "      <td>...</td>\n",
       "    </tr>\n",
       "    <tr>\n",
       "      <th>162</th>\n",
       "      <td>-0.195896</td>\n",
       "      <td>-0.080802</td>\n",
       "      <td>-0.054591</td>\n",
       "      <td>-0.014023</td>\n",
       "      <td>-0.053270</td>\n",
       "      <td>0.069438</td>\n",
       "      <td>-0.110116</td>\n",
       "      <td>-0.013942</td>\n",
       "    </tr>\n",
       "    <tr>\n",
       "      <th>163</th>\n",
       "      <td>0.069653</td>\n",
       "      <td>-0.109219</td>\n",
       "      <td>0.230492</td>\n",
       "      <td>-0.052577</td>\n",
       "      <td>0.277531</td>\n",
       "      <td>0.033437</td>\n",
       "      <td>-0.009891</td>\n",
       "      <td>-0.033430</td>\n",
       "    </tr>\n",
       "    <tr>\n",
       "      <th>164</th>\n",
       "      <td>0.004320</td>\n",
       "      <td>-0.254487</td>\n",
       "      <td>-0.008755</td>\n",
       "      <td>0.006675</td>\n",
       "      <td>0.063147</td>\n",
       "      <td>0.027145</td>\n",
       "      <td>0.031991</td>\n",
       "      <td>-0.003631</td>\n",
       "    </tr>\n",
       "    <tr>\n",
       "      <th>165</th>\n",
       "      <td>-0.332336</td>\n",
       "      <td>0.040223</td>\n",
       "      <td>0.117209</td>\n",
       "      <td>-0.117908</td>\n",
       "      <td>0.055660</td>\n",
       "      <td>0.029230</td>\n",
       "      <td>-0.009347</td>\n",
       "      <td>0.002162</td>\n",
       "    </tr>\n",
       "    <tr>\n",
       "      <th>166</th>\n",
       "      <td>-0.558692</td>\n",
       "      <td>0.198126</td>\n",
       "      <td>-0.009399</td>\n",
       "      <td>0.024451</td>\n",
       "      <td>0.001527</td>\n",
       "      <td>0.050681</td>\n",
       "      <td>-0.135254</td>\n",
       "      <td>-0.000705</td>\n",
       "    </tr>\n",
       "  </tbody>\n",
       "</table>\n",
       "<p>167 rows × 8 columns</p>\n",
       "</div>"
      ],
      "text/plain": [
       "          PC1       PC2       PC3       PC4       PC5       PC6       PC7  \\\n",
       "0   -0.580813  0.217077 -0.001280 -0.046192 -0.054438  0.025069 -0.065890   \n",
       "1    0.103731 -0.269895 -0.024640  0.004070  0.003514 -0.003896  0.050684   \n",
       "2   -0.018388 -0.147006  0.100330 -0.078066  0.030409 -0.007906  0.047666   \n",
       "3   -0.621322  0.313491  0.096888 -0.054168  0.030748 -0.028140  0.053453   \n",
       "4    0.160906 -0.159981  0.009582 -0.026394 -0.055285 -0.009319  0.011721   \n",
       "..        ...       ...       ...       ...       ...       ...       ...   \n",
       "162 -0.195896 -0.080802 -0.054591 -0.014023 -0.053270  0.069438 -0.110116   \n",
       "163  0.069653 -0.109219  0.230492 -0.052577  0.277531  0.033437 -0.009891   \n",
       "164  0.004320 -0.254487 -0.008755  0.006675  0.063147  0.027145  0.031991   \n",
       "165 -0.332336  0.040223  0.117209 -0.117908  0.055660  0.029230 -0.009347   \n",
       "166 -0.558692  0.198126 -0.009399  0.024451  0.001527  0.050681 -0.135254   \n",
       "\n",
       "          PC8  \n",
       "0    0.001628  \n",
       "1    0.001568  \n",
       "2    0.008517  \n",
       "3   -0.001336  \n",
       "4   -0.004409  \n",
       "..        ...  \n",
       "162 -0.013942  \n",
       "163 -0.033430  \n",
       "164 -0.003631  \n",
       "165  0.002162  \n",
       "166 -0.000705  \n",
       "\n",
       "[167 rows x 8 columns]"
      ]
     },
     "execution_count": 70,
     "metadata": {},
     "output_type": "execute_result"
    }
   ],
   "source": [
    "# DF of X projected in PCA space\n",
    "X_proj = pd.DataFrame(X_proj,columns=[f'PC{i}' for i in range(1,9)])\n",
    "X_proj"
   ]
  },
  {
   "cell_type": "code",
   "execution_count": 71,
   "id": "cdda2bc0",
   "metadata": {},
   "outputs": [
    {
     "data": {
      "text/html": [
       "<div>\n",
       "<style scoped>\n",
       "    .dataframe tbody tr th:only-of-type {\n",
       "        vertical-align: middle;\n",
       "    }\n",
       "\n",
       "    .dataframe tbody tr th {\n",
       "        vertical-align: top;\n",
       "    }\n",
       "\n",
       "    .dataframe thead th {\n",
       "        text-align: right;\n",
       "    }\n",
       "</style>\n",
       "<table border=\"1\" class=\"dataframe\">\n",
       "  <thead>\n",
       "    <tr style=\"text-align: right;\">\n",
       "      <th></th>\n",
       "      <th>PC1</th>\n",
       "      <th>PC2</th>\n",
       "      <th>PC3</th>\n",
       "      <th>PC4</th>\n",
       "      <th>PC5</th>\n",
       "      <th>PC6</th>\n",
       "      <th>PC7</th>\n",
       "      <th>PC8</th>\n",
       "    </tr>\n",
       "  </thead>\n",
       "  <tbody>\n",
       "    <tr>\n",
       "      <th>child_mort</th>\n",
       "      <td>-0.422950</td>\n",
       "      <td>0.373733</td>\n",
       "      <td>-0.158710</td>\n",
       "      <td>0.353087</td>\n",
       "      <td>0.144058</td>\n",
       "      <td>-0.331860</td>\n",
       "      <td>0.632953</td>\n",
       "      <td>0.007969</td>\n",
       "    </tr>\n",
       "    <tr>\n",
       "      <th>exports</th>\n",
       "      <td>0.144448</td>\n",
       "      <td>0.217255</td>\n",
       "      <td>0.195652</td>\n",
       "      <td>0.268665</td>\n",
       "      <td>-0.197116</td>\n",
       "      <td>0.802950</td>\n",
       "      <td>0.331167</td>\n",
       "      <td>0.167989</td>\n",
       "    </tr>\n",
       "    <tr>\n",
       "      <th>health</th>\n",
       "      <td>0.401519</td>\n",
       "      <td>0.525415</td>\n",
       "      <td>-0.480853</td>\n",
       "      <td>-0.288240</td>\n",
       "      <td>0.325547</td>\n",
       "      <td>0.028608</td>\n",
       "      <td>-0.065473</td>\n",
       "      <td>0.370586</td>\n",
       "    </tr>\n",
       "    <tr>\n",
       "      <th>income</th>\n",
       "      <td>0.310525</td>\n",
       "      <td>0.261668</td>\n",
       "      <td>0.489331</td>\n",
       "      <td>0.370705</td>\n",
       "      <td>-0.235038</td>\n",
       "      <td>-0.429430</td>\n",
       "      <td>-0.208033</td>\n",
       "      <td>0.418696</td>\n",
       "    </tr>\n",
       "    <tr>\n",
       "      <th>inflation</th>\n",
       "      <td>-0.079934</td>\n",
       "      <td>0.032280</td>\n",
       "      <td>0.548898</td>\n",
       "      <td>-0.039825</td>\n",
       "      <td>0.822140</td>\n",
       "      <td>0.108089</td>\n",
       "      <td>-0.042867</td>\n",
       "      <td>-0.016053</td>\n",
       "    </tr>\n",
       "    <tr>\n",
       "      <th>life_expec</th>\n",
       "      <td>0.388670</td>\n",
       "      <td>-0.181243</td>\n",
       "      <td>0.277362</td>\n",
       "      <td>-0.521874</td>\n",
       "      <td>-0.104626</td>\n",
       "      <td>-0.206912</td>\n",
       "      <td>0.642588</td>\n",
       "      <td>0.011245</td>\n",
       "    </tr>\n",
       "    <tr>\n",
       "      <th>total_fer</th>\n",
       "      <td>-0.503033</td>\n",
       "      <td>0.496962</td>\n",
       "      <td>0.287119</td>\n",
       "      <td>-0.546853</td>\n",
       "      <td>-0.301505</td>\n",
       "      <td>0.054782</td>\n",
       "      <td>-0.155439</td>\n",
       "      <td>0.020811</td>\n",
       "    </tr>\n",
       "    <tr>\n",
       "      <th>gdpp</th>\n",
       "      <td>0.363468</td>\n",
       "      <td>0.433278</td>\n",
       "      <td>0.072189</td>\n",
       "      <td>0.098273</td>\n",
       "      <td>-0.037446</td>\n",
       "      <td>-0.049151</td>\n",
       "      <td>-0.056710</td>\n",
       "      <td>-0.811331</td>\n",
       "    </tr>\n",
       "  </tbody>\n",
       "</table>\n",
       "</div>"
      ],
      "text/plain": [
       "                 PC1       PC2       PC3       PC4       PC5       PC6  \\\n",
       "child_mort -0.422950  0.373733 -0.158710  0.353087  0.144058 -0.331860   \n",
       "exports     0.144448  0.217255  0.195652  0.268665 -0.197116  0.802950   \n",
       "health      0.401519  0.525415 -0.480853 -0.288240  0.325547  0.028608   \n",
       "income      0.310525  0.261668  0.489331  0.370705 -0.235038 -0.429430   \n",
       "inflation  -0.079934  0.032280  0.548898 -0.039825  0.822140  0.108089   \n",
       "life_expec  0.388670 -0.181243  0.277362 -0.521874 -0.104626 -0.206912   \n",
       "total_fer  -0.503033  0.496962  0.287119 -0.546853 -0.301505  0.054782   \n",
       "gdpp        0.363468  0.433278  0.072189  0.098273 -0.037446 -0.049151   \n",
       "\n",
       "                 PC7       PC8  \n",
       "child_mort  0.632953  0.007969  \n",
       "exports     0.331167  0.167989  \n",
       "health     -0.065473  0.370586  \n",
       "income     -0.208033  0.418696  \n",
       "inflation  -0.042867 -0.016053  \n",
       "life_expec  0.642588  0.011245  \n",
       "total_fer  -0.155439  0.020811  \n",
       "gdpp       -0.056710 -0.811331  "
      ]
     },
     "execution_count": 71,
     "metadata": {},
     "output_type": "execute_result"
    }
   ],
   "source": [
    "# View eigenvalues of PCA per feature\n",
    "W = pca.components_\n",
    "W = pd.DataFrame(W.T, \n",
    "                 index=df_scaled.columns, \n",
    "                 columns= [f'PC{i}' for i in range(1,9)])\n",
    "W"
   ]
  },
  {
   "cell_type": "code",
   "execution_count": 72,
   "id": "564ad859",
   "metadata": {},
   "outputs": [
    {
     "data": {
      "image/png": "[encoded data removed]",
      "text/plain": [
       "<Figure size 432x288 with 1 Axes>"
      ]
     },
     "metadata": {
      "needs_background": "light"
     },
     "output_type": "display_data"
    }
   ],
   "source": [
    "plt.plot(pca.explained_variance_ratio_.cumsum())\n",
    "plt.xlabel('Num of PCs')\n",
    "plt.ylabel('Cum sum of explained variance, %');"
   ]
  },
  {
   "cell_type": "code",
   "execution_count": 73,
   "id": "522d32d1",
   "metadata": {},
   "outputs": [
    {
     "name": "stdout",
     "output_type": "stream",
     "text": [
      " The first 4 components (eigenvectors) explains 94.17806471276947 % of variance\n"
     ]
    }
   ],
   "source": [
    "print(f' The first 4 components (eigenvectors) explains {(pca.explained_variance_ratio_[:4].sum())*100} % of variance')"
   ]
  },
  {
   "cell_type": "code",
   "execution_count": 74,
   "id": "50fff69d",
   "metadata": {},
   "outputs": [
    {
     "data": {
      "application/vnd.plotly.v1+json": {
       "config": {
        "plotlyServerURL": "https://plot.ly"
       },
       "data": [
        {
         "hovertemplate": "PC1=%{x}<br>PC2=%{y}<br>PC3=%{z}<extra></extra>",
         "legendgroup": "",
         "marker": {
          "color": "#636efa",
          "symbol": "circle"
         },
         "mode": "markers",
         "name": "",
         "scene": "scene",
         "showlegend": false,
         "type": "scatter3d",
         "x": [
          -0.5808127760663265,
          0.10373053532743122,
          -0.018388485574910664,
          -0.621322189373047,
          0.16090626294367216,
          0.10532926953668233,
          0.05473355386634078,
          0.6014340281301164,
          0.6571912602582312,
          1.8931384956693003e-05,
          0.2895109449024198,
          0.25642105528608417,
          -0.10720803434897169,
          0.2100492338704222,
          0.11340032875673917,
          0.5937694575080114,
          -0.025116257410033118,
          -0.5370653017335183,
          -0.0639721391379571,
          -0.14707365100151773,
          0.16956876785243208,
          -0.18868784558744658,
          0.13676516706372832,
          0.43492245761981035,
          0.1402403938871149,
          -0.6234074866753879,
          -0.6172963991446221,
          -0.16917578720914891,
          -0.5405311784522634,
          0.640673020815696,
          -0.04291314600577714,
          -0.7179956684295132,
          -0.7583425517021882,
          0.21226519968530577,
          0.09447317557984226,
          0.09166038407647127,
          -0.41335177393043276,
          -0.6934049243115273,
          -0.4142523862926109,
          0.17759409316110358,
          -0.5697389194823858,
          0.23454459588582974,
          0.41484392091398203,
          0.3253073418028716,
          0.726142886740096,
          -0.011021090611775966,
          0.012606907734901402,
          -0.10542339715517643,
          0.020183977398416583,
          -0.3680185207555517,
          -0.3742662771694941,
          0.22731123784337623,
          -0.08818703296758458,
          0.5589960913298478,
          0.5542050333887736,
          -0.26305887836974323,
          -0.4768516883793855,
          0.04213097007406877,
          0.614288185789955,
          -0.37747269441202896,
          0.42354919175760186,
          0.048307857289359664,
          -0.12722731275318994,
          -0.5736319695391656,
          -0.5688839802957759,
          -0.1209317254778247,
          -0.8073054258106125,
          0.2468868386132452,
          0.5221959915474655,
          -0.17312791729579116,
          -0.06967718031407782,
          0.09921929889701617,
          -0.2337023635707097,
          0.612536432839178,
          0.30457821978533556,
          0.5169283855182727,
          0.038682222352312105,
          0.5991969037401508,
          -0.07253321060329675,
          -0.002842943228546542,
          -0.3481756589139876,
          -0.31720788876993117,
          0.41701376743231455,
          -0.14136451233764585,
          -0.2786136044368451,
          0.19662444542412175,
          0.20036769130394097,
          -0.46242040590569683,
          -0.48049352840072695,
          0.12631211202478324,
          0.20240918192484092,
          1.236698635230916,
          0.12321376291798287,
          -0.39283432309276073,
          -0.5689723139227081,
          0.1226249602392601,
          0.10188992596596533,
          -0.7050970199523183,
          0.37969785232525627,
          -0.4365271356539904,
          0.13425533320473845,
          -0.18578900919919977,
          0.049623557945090255,
          -0.11365630040316922,
          0.15328989403660268,
          -0.04259839125298705,
          -0.5971896268618287,
          -0.16840300563049737,
          -0.2620263347887401,
          -0.14800666863473214,
          0.6960250100606483,
          0.4309530687701722,
          -0.7596271331248795,
          -0.6822817143705279,
          0.9640087781454985,
          0.1674123252252962,
          -0.35219912995997676,
          0.08227370889377746,
          -0.02816700405572911,
          0.039761465879004705,
          -0.13013663294342645,
          0.24011032572622257,
          0.3939939324025228,
          0.7058563309915143,
          0.1438688502746962,
          0.13222586927471325,
          -0.3524664977366808,
          -0.1648993597292986,
          0.15699015821134552,
          -0.40311858964908737,
          0.15447969320206068,
          0.1122855218690004,
          -0.6912989926130223,
          0.6724900704968866,
          0.2836461389985095,
          0.38079035409115025,
          -0.2768602384411414,
          -0.18252932609018438,
          0.37282149974254164,
          0.4758480053017465,
          0.026192805070665483,
          0.034278149257732475,
          -0.39831870570799294,
          0.013621600234209195,
          0.6353212150798874,
          0.9680330513733674,
          -0.21719430344772547,
          -0.48649385231535586,
          0.1285843007720255,
          -0.4304064978726574,
          -0.4817024138585753,
          -0.1445607350649329,
          0.06988855002888428,
          0.1365470987638782,
          -0.1504442262370018,
          -0.5837587469229906,
          0.06792519825577731,
          0.392100747550813,
          0.4942874607723132,
          0.7672292364216802,
          0.16266342328112718,
          -0.09082359522040517,
          -0.19589567151218532,
          0.06965344179598153,
          0.004319767988129597,
          -0.33233636787299886,
          -0.5586923134503946
         ],
         "y": [
          0.21707730986649482,
          -0.26989464350323794,
          -0.14700581873601912,
          0.313490533231598,
          -0.15998132496194867,
          -0.13111642314567573,
          -0.2709475099913354,
          0.24284647025588285,
          0.2463603526881244,
          -0.15210632881442543,
          0.0032570417270992615,
          -0.04639173989395479,
          -0.1804264676270035,
          -0.13889604194684893,
          -0.2505784893998508,
          0.25384515486535075,
          -0.17049603487044016,
          0.19707459720424775,
          -0.17464872986898433,
          -0.10480419998660592,
          -0.3001224055656918,
          -0.004106371552069477,
          -0.1595385838471824,
          0.08380852810062119,
          -0.24150315044041962,
          0.26066432782993465,
          0.24917345390410153,
          -0.13050528587266655,
          0.19478661215572407,
          0.25800241581628786,
          -0.17950598410675134,
          0.3017034134153445,
          0.38660279512878365,
          -0.16806968771402092,
          -0.2704902793317408,
          -0.21524728173056387,
          0.09334644449001434,
          0.31534454125876,
          0.11018783779039898,
          -0.2110769327892934,
          0.2173222915943722,
          -0.1867115632746312,
          -0.05196732154575581,
          -0.1147406984061005,
          0.4259982195379914,
          -0.14416798353182367,
          -0.16793872510396457,
          -0.11995026587543553,
          -0.22345617047229813,
          0.39211894154917776,
          0.03703158305017216,
          -0.16703447596118703,
          -0.14865317832575262,
          0.19977803573763034,
          0.21447529255011144,
          0.09552008210615336,
          0.15529385099550677,
          -0.2448366083653143,
          0.19029163880192465,
          0.05624403551103252,
          -0.030621578699262388,
          -0.18369254521283745,
          -0.09898488280111087,
          0.2082823056024137,
          0.2000619235083612,
          -0.13311111082440993,
          0.32170873444024906,
          -0.1980971585893179,
          0.19280067104854914,
          -0.11808578356209938,
          -0.16735466575327773,
          -0.21424761324658886,
          0.04626590669962824,
          0.2951824174717073,
          0.08525435029586172,
          0.05839522521983363,
          -0.22293905171884743,
          0.12849759305133882,
          -0.10140612654126595,
          -0.10105797580158557,
          0.03064265740462366,
          0.005364547437659301,
          0.11249892008837167,
          -0.14513455315229437,
          -0.03163834090676188,
          -0.21596033053445582,
          -0.2411915999130292,
          0.07992276721658921,
          0.13206029842966419,
          -0.11193232957616626,
          -0.19114583986879063,
          0.9697716664121079,
          -0.27877902362050194,
          0.05127686532968584,
          0.18726291298455225,
          -0.17929818325750643,
          -0.2069845738166236,
          0.34705258321891164,
          -0.08456777009858689,
          0.13185361763560954,
          -0.2246122715041903,
          -0.05779400593329086,
          -0.30114726567420924,
          -0.14657885474574506,
          -0.23800855088158235,
          -0.17744685523770518,
          0.21874917691380236,
          -0.1309597919713713,
          0.025780297021956753,
          -0.1544061543255712,
          0.35691938444042676,
          0.10595851846587048,
          0.3923600816839394,
          0.32395509667116945,
          0.6983468239009387,
          -0.00965619611283775,
          0.040595157548177795,
          -0.13732885711212808,
          -0.1763622728483903,
          -0.19533229494524315,
          -0.12697095485345153,
          -0.20323663813358822,
          -0.07392650664336048,
          0.36581855259694934,
          -0.2277533775999373,
          -0.18577333165815074,
          0.034480428773453406,
          -0.053573247065688466,
          0.020731182416625596,
          0.08894800677323933,
          -0.26979445187511214,
          -0.15893635375817672,
          0.3012722020175605,
          0.1528041219540042,
          -0.13311116292588382,
          -0.06037624471109609,
          -0.0319656983914583,
          -0.007594080691343144,
          -0.13369735407768074,
          -0.009404161506783564,
          -0.24448560481036208,
          -0.20262656184890737,
          0.09670700006265648,
          -0.11653732200947102,
          0.29505901834484033,
          0.6229017951534064,
          -0.07774486326057979,
          0.1438032164829371,
          -0.27207648697176817,
          0.18134948259057562,
          0.13017002398579844,
          -0.08747002018912206,
          -0.23071763432356845,
          -0.15912398511305662,
          -0.07082412489878308,
          0.2251973224321715,
          -0.28263748429129515,
          0.05490869691209854,
          0.13767965895434783,
          0.5075164250109981,
          -0.15353103114972025,
          -0.1849849034169806,
          -0.08080167952868401,
          -0.10921939768473488,
          -0.25448655480097715,
          0.04022327026342574,
          0.19812562750636417
         ],
         "z": [
          -0.0012797623053901648,
          -0.0246396340069429,
          0.10033025851817177,
          0.09688783297358865,
          0.009581672679812267,
          0.09824266263412813,
          -0.030557462981779367,
          -0.05904576933840937,
          -0.10711425793162066,
          0.0010064540913437786,
          -0.082607330665172,
          0.12382732139670476,
          -0.05746570856006494,
          -0.05700709830385498,
          0.022404024982053176,
          -0.06266863328867468,
          -0.02620997007173283,
          -0.04924041379576189,
          -0.03388195812123466,
          0.00840228147178278,
          -0.05926269596690411,
          -0.07710358950379145,
          -0.0301910294724811,
          0.3377772853199141,
          -0.03982846544621735,
          -0.02344983600706281,
          0.03598644570313283,
          -0.07295066918083332,
          -0.07586832012963932,
          -0.11639059324981633,
          -0.03646612660869455,
          -0.16119562406206575,
          -0.024585685228233435,
          0.034969130038543995,
          -0.02268578840454101,
          -0.018864696440753777,
          -0.023539652605971562,
          0.07298738308517277,
          0.07633282243071822,
          0.007310681632864521,
          -0.05821370888716494,
          -0.031866444470200594,
          0.022728470657872944,
          -0.020296001406929838,
          -0.14545232816087228,
          0.0018336578624034239,
          0.024126253945528253,
          0.03839530773833728,
          -0.02799985484346336,
          0.1721048358201534,
          0.012798945085769339,
          0.006176288332068146,
          -0.0501327701983301,
          -0.055532965558222555,
          -0.09944318330646387,
          0.06388903790926814,
          0.02703135620545627,
          -0.026097499073460862,
          -0.11615067644966552,
          0.01475252564855005,
          -0.06391082429444842,
          -0.045280003296083005,
          0.005262656783555244,
          0.00520392052141931,
          -0.09173834738116074,
          -0.058940598015347186,
          -0.3576696811057442,
          -0.028791192459116606,
          0.005429432404893418,
          -0.05934750438898479,
          0.023254955496130526,
          0.05239464538845424,
          0.10880762908098159,
          -0.02386336211741924,
          0.052172393505438945,
          -0.056297909557786234,
          0.011516282400806802,
          -0.107262294343392,
          0.07718642124470249,
          0.0872674737982324,
          -0.04284867274303144,
          -0.09101456514778375,
          0.31483478094988937,
          -0.002907000648862187,
          -0.0635090600165826,
          -0.05930492820442833,
          -0.013231934737848554,
          -0.20364486468109502,
          -0.035329539410514504,
          0.1368630210261933,
          -0.026533630292303143,
          0.15509026220998567,
          -0.049214535575762816,
          -0.012473105692275579,
          -0.029719137593660863,
          0.05628420420212653,
          0.0037129052454538667,
          -0.01043388031744244,
          0.01891359688572337,
          0.07589971065854545,
          -0.04240379343528632,
          -0.05883953114668431,
          -0.0665143419267649,
          0.13091876035764505,
          -0.025473100522494397,
          -0.03685909114876352,
          -0.0414463111689491,
          -0.08016762446255363,
          -0.07659285264713761,
          -0.016239776671280064,
          -0.11206890997773802,
          -0.027993603222807712,
          0.0263618748785874,
          0.4835377794459954,
          -0.11576131804944767,
          0.2380925965771988,
          -0.02278667192683652,
          0.023043349745358904,
          0.008656207967549265,
          0.029489544908841855,
          -0.01758096755591371,
          -0.022311499447036184,
          -0.06308388054084735,
          0.518251700089703,
          -0.017695954944622554,
          0.030397187952989416,
          -0.03070291807634368,
          0.03917061253205525,
          0.2211428642435839,
          -0.01150606966893584,
          -0.03461080973566941,
          -0.009528638391046495,
          -0.05269621344527861,
          0.2595734271301163,
          -0.037136330112740486,
          -0.03374432712870975,
          -0.01010743281475966,
          -0.13160277409219637,
          0.013141064567223784,
          -0.05242582086804464,
          0.09031905902631515,
          -0.03334098519138216,
          0.07831677412704831,
          -0.004443965020327796,
          -0.06529138012672205,
          -0.1945761028118506,
          0.014173020474387921,
          0.013250326906431359,
          -0.007254894116400886,
          0.19381324944262093,
          -0.07381549517977518,
          0.022261104110334974,
          0.00030704988195618326,
          0.031458411933026224,
          -0.05190323264523256,
          0.029093257637187425,
          -0.024100034359623535,
          0.21347656888070213,
          -0.05229587705444929,
          -0.28393647250850135,
          -0.002493899658757463,
          -0.003292313586284102,
          -0.05459145687755145,
          0.2304918244582236,
          -0.008754882282378376,
          0.11720891112743104,
          -0.009399425766769585
         ]
        }
       ],
       "layout": {
        "legend": {
         "tracegroupgap": 0
        },
        "scene": {
         "domain": {
          "x": [
           0,
           1
          ],
          "y": [
           0,
           1
          ]
         },
         "xaxis": {
          "title": {
           "text": "PC1"
          }
         },
         "yaxis": {
          "title": {
           "text": "PC2"
          }
         },
         "zaxis": {
          "title": {
           "text": "PC3"
          }
         }
        },
        "template": {
         "data": {
          "bar": [
           {
            "error_x": {
             "color": "#2a3f5f"
            },
            "error_y": {
             "color": "#2a3f5f"
            },
            "marker": {
             "line": {
              "color": "#E5ECF6",
              "width": 0.5
             },
             "pattern": {
              "fillmode": "overlay",
              "size": 10,
              "solidity": 0.2
             }
            },
            "type": "bar"
           }
          ],
          "barpolar": [
           {
            "marker": {
             "line": {
              "color": "#E5ECF6",
              "width": 0.5
             },
             "pattern": {
              "fillmode": "overlay",
              "size": 10,
              "solidity": 0.2
             }
            },
            "type": "barpolar"
           }
          ],
          "carpet": [
           {
            "aaxis": {
             "endlinecolor": "#2a3f5f",
             "gridcolor": "white",
             "linecolor": "white",
             "minorgridcolor": "white",
             "startlinecolor": "#2a3f5f"
            },
            "baxis": {
             "endlinecolor": "#2a3f5f",
             "gridcolor": "white",
             "linecolor": "white",
             "minorgridcolor": "white",
             "startlinecolor": "#2a3f5f"
            },
            "type": "carpet"
           }
          ],
          "choropleth": [
           {
            "colorbar": {
             "outlinewidth": 0,
             "ticks": ""
            },
            "type": "choropleth"
           }
          ],
          "contour": [
           {
            "colorbar": {
             "outlinewidth": 0,
             "ticks": ""
            },
            "colorscale": [
             [
              0,
              "#0d0887"
             ],
             [
              0.1111111111111111,
              "#46039f"
             ],
             [
              0.2222222222222222,
              "#7201a8"
             ],
             [
              0.3333333333333333,
              "#9c179e"
             ],
             [
              0.4444444444444444,
              "#bd3786"
             ],
             [
              0.5555555555555556,
              "#d8576b"
             ],
             [
              0.6666666666666666,
              "#ed7953"
             ],
             [
              0.7777777777777778,
              "#fb9f3a"
             ],
             [
              0.8888888888888888,
              "#fdca26"
             ],
             [
              1,
              "#f0f921"
             ]
            ],
            "type": "contour"
           }
          ],
          "contourcarpet": [
           {
            "colorbar": {
             "outlinewidth": 0,
             "ticks": ""
            },
            "type": "contourcarpet"
           }
          ],
          "heatmap": [
           {
            "colorbar": {
             "outlinewidth": 0,
             "ticks": ""
            },
            "colorscale": [
             [
              0,
              "#0d0887"
             ],
             [
              0.1111111111111111,
              "#46039f"
             ],
             [
              0.2222222222222222,
              "#7201a8"
             ],
             [
              0.3333333333333333,
              "#9c179e"
             ],
             [
              0.4444444444444444,
              "#bd3786"
             ],
             [
              0.5555555555555556,
              "#d8576b"
             ],
             [
              0.6666666666666666,
              "#ed7953"
             ],
             [
              0.7777777777777778,
              "#fb9f3a"
             ],
             [
              0.8888888888888888,
              "#fdca26"
             ],
             [
              1,
              "#f0f921"
             ]
            ],
            "type": "heatmap"
           }
          ],
          "heatmapgl": [
           {
            "colorbar": {
             "outlinewidth": 0,
             "ticks": ""
            },
            "colorscale": [
             [
              0,
              "#0d0887"
             ],
             [
              0.1111111111111111,
              "#46039f"
             ],
             [
              0.2222222222222222,
              "#7201a8"
             ],
             [
              0.3333333333333333,
              "#9c179e"
             ],
             [
              0.4444444444444444,
              "#bd3786"
             ],
             [
              0.5555555555555556,
              "#d8576b"
             ],
             [
              0.6666666666666666,
              "#ed7953"
             ],
             [
              0.7777777777777778,
              "#fb9f3a"
             ],
             [
              0.8888888888888888,
              "#fdca26"
             ],
             [
              1,
              "#f0f921"
             ]
            ],
            "type": "heatmapgl"
           }
          ],
          "histogram": [
           {
            "marker": {
             "pattern": {
              "fillmode": "overlay",
              "size": 10,
              "solidity": 0.2
             }
            },
            "type": "histogram"
           }
          ],
          "histogram2d": [
           {
            "colorbar": {
             "outlinewidth": 0,
             "ticks": ""
            },
            "colorscale": [
             [
              0,
              "#0d0887"
             ],
             [
              0.1111111111111111,
              "#46039f"
             ],
             [
              0.2222222222222222,
              "#7201a8"
             ],
             [
              0.3333333333333333,
              "#9c179e"
             ],
             [
              0.4444444444444444,
              "#bd3786"
             ],
             [
              0.5555555555555556,
              "#d8576b"
             ],
             [
              0.6666666666666666,
              "#ed7953"
             ],
             [
              0.7777777777777778,
              "#fb9f3a"
             ],
             [
              0.8888888888888888,
              "#fdca26"
             ],
             [
              1,
              "#f0f921"
             ]
            ],
            "type": "histogram2d"
           }
          ],
          "histogram2dcontour": [
           {
            "colorbar": {
             "outlinewidth": 0,
             "ticks": ""
            },
            "colorscale": [
             [
              0,
              "#0d0887"
             ],
             [
              0.1111111111111111,
              "#46039f"
             ],
             [
              0.2222222222222222,
              "#7201a8"
             ],
             [
              0.3333333333333333,
              "#9c179e"
             ],
             [
              0.4444444444444444,
              "#bd3786"
             ],
             [
              0.5555555555555556,
              "#d8576b"
             ],
             [
              0.6666666666666666,
              "#ed7953"
             ],
             [
              0.7777777777777778,
              "#fb9f3a"
             ],
             [
              0.8888888888888888,
              "#fdca26"
             ],
             [
              1,
              "#f0f921"
             ]
            ],
            "type": "histogram2dcontour"
           }
          ],
          "mesh3d": [
           {
            "colorbar": {
             "outlinewidth": 0,
             "ticks": ""
            },
            "type": "mesh3d"
           }
          ],
          "parcoords": [
           {
            "line": {
             "colorbar": {
              "outlinewidth": 0,
              "ticks": ""
             }
            },
            "type": "parcoords"
           }
          ],
          "pie": [
           {
            "automargin": true,
            "type": "pie"
           }
          ],
          "scatter": [
           {
            "fillpattern": {
             "fillmode": "overlay",
             "size": 10,
             "solidity": 0.2
            },
            "type": "scatter"
           }
          ],
          "scatter3d": [
           {
            "line": {
             "colorbar": {
              "outlinewidth": 0,
              "ticks": ""
             }
            },
            "marker": {
             "colorbar": {
              "outlinewidth": 0,
              "ticks": ""
             }
            },
            "type": "scatter3d"
           }
          ],
          "scattercarpet": [
           {
            "marker": {
             "colorbar": {
              "outlinewidth": 0,
              "ticks": ""
             }
            },
            "type": "scattercarpet"
           }
          ],
          "scattergeo": [
           {
            "marker": {
             "colorbar": {
              "outlinewidth": 0,
              "ticks": ""
             }
            },
            "type": "scattergeo"
           }
          ],
          "scattergl": [
           {
            "marker": {
             "colorbar": {
              "outlinewidth": 0,
              "ticks": ""
             }
            },
            "type": "scattergl"
           }
          ],
          "scattermapbox": [
           {
            "marker": {
             "colorbar": {
              "outlinewidth": 0,
              "ticks": ""
             }
            },
            "type": "scattermapbox"
           }
          ],
          "scatterpolar": [
           {
            "marker": {
             "colorbar": {
              "outlinewidth": 0,
              "ticks": ""
             }
            },
            "type": "scatterpolar"
           }
          ],
          "scatterpolargl": [
           {
            "marker": {
             "colorbar": {
              "outlinewidth": 0,
              "ticks": ""
             }
            },
            "type": "scatterpolargl"
           }
          ],
          "scatterternary": [
           {
            "marker": {
             "colorbar": {
              "outlinewidth": 0,
              "ticks": ""
             }
            },
            "type": "scatterternary"
           }
          ],
          "surface": [
           {
            "colorbar": {
             "outlinewidth": 0,
             "ticks": ""
            },
            "colorscale": [
             [
              0,
              "#0d0887"
             ],
             [
              0.1111111111111111,
              "#46039f"
             ],
             [
              0.2222222222222222,
              "#7201a8"
             ],
             [
              0.3333333333333333,
              "#9c179e"
             ],
             [
              0.4444444444444444,
              "#bd3786"
             ],
             [
              0.5555555555555556,
              "#d8576b"
             ],
             [
              0.6666666666666666,
              "#ed7953"
             ],
             [
              0.7777777777777778,
              "#fb9f3a"
             ],
             [
              0.8888888888888888,
              "#fdca26"
             ],
             [
              1,
              "#f0f921"
             ]
            ],
            "type": "surface"
           }
          ],
          "table": [
           {
            "cells": {
             "fill": {
              "color": "#EBF0F8"
             },
             "line": {
              "color": "white"
             }
            },
            "header": {
             "fill": {
              "color": "#C8D4E3"
             },
             "line": {
              "color": "white"
             }
            },
            "type": "table"
           }
          ]
         },
         "layout": {
          "annotationdefaults": {
           "arrowcolor": "#2a3f5f",
           "arrowhead": 0,
           "arrowwidth": 1
          },
          "autotypenumbers": "strict",
          "coloraxis": {
           "colorbar": {
            "outlinewidth": 0,
            "ticks": ""
           }
          },
          "colorscale": {
           "diverging": [
            [
             0,
             "#8e0152"
            ],
            [
             0.1,
             "#c51b7d"
            ],
            [
             0.2,
             "#de77ae"
            ],
            [
             0.3,
             "#f1b6da"
            ],
            [
             0.4,
             "#fde0ef"
            ],
            [
             0.5,
             "#f7f7f7"
            ],
            [
             0.6,
             "#e6f5d0"
            ],
            [
             0.7,
             "#b8e186"
            ],
            [
             0.8,
             "#7fbc41"
            ],
            [
             0.9,
             "#4d9221"
            ],
            [
             1,
             "#276419"
            ]
           ],
           "sequential": [
            [
             0,
             "#0d0887"
            ],
            [
             0.1111111111111111,
             "#46039f"
            ],
            [
             0.2222222222222222,
             "#7201a8"
            ],
            [
             0.3333333333333333,
             "#9c179e"
            ],
            [
             0.4444444444444444,
             "#bd3786"
            ],
            [
             0.5555555555555556,
             "#d8576b"
            ],
            [
             0.6666666666666666,
             "#ed7953"
            ],
            [
             0.7777777777777778,
             "#fb9f3a"
            ],
            [
             0.8888888888888888,
             "#fdca26"
            ],
            [
             1,
             "#f0f921"
            ]
           ],
           "sequentialminus": [
            [
             0,
             "#0d0887"
            ],
            [
             0.1111111111111111,
             "#46039f"
            ],
            [
             0.2222222222222222,
             "#7201a8"
            ],
            [
             0.3333333333333333,
             "#9c179e"
            ],
            [
             0.4444444444444444,
             "#bd3786"
            ],
            [
             0.5555555555555556,
             "#d8576b"
            ],
            [
             0.6666666666666666,
             "#ed7953"
            ],
            [
             0.7777777777777778,
             "#fb9f3a"
            ],
            [
             0.8888888888888888,
             "#fdca26"
            ],
            [
             1,
             "#f0f921"
            ]
           ]
          },
          "colorway": [
           "#636efa",
           "#EF553B",
           "#00cc96",
           "#ab63fa",
           "#FFA15A",
           "#19d3f3",
           "#FF6692",
           "#B6E880",
           "#FF97FF",
           "#FECB52"
          ],
          "font": {
           "color": "#2a3f5f"
          },
          "geo": {
           "bgcolor": "white",
           "lakecolor": "white",
           "landcolor": "#E5ECF6",
           "showlakes": true,
           "showland": true,
           "subunitcolor": "white"
          },
          "hoverlabel": {
           "align": "left"
          },
          "hovermode": "closest",
          "mapbox": {
           "style": "light"
          },
          "paper_bgcolor": "white",
          "plot_bgcolor": "#E5ECF6",
          "polar": {
           "angularaxis": {
            "gridcolor": "white",
            "linecolor": "white",
            "ticks": ""
           },
           "bgcolor": "#E5ECF6",
           "radialaxis": {
            "gridcolor": "white",
            "linecolor": "white",
            "ticks": ""
           }
          },
          "scene": {
           "xaxis": {
            "backgroundcolor": "#E5ECF6",
            "gridcolor": "white",
            "gridwidth": 2,
            "linecolor": "white",
            "showbackground": true,
            "ticks": "",
            "zerolinecolor": "white"
           },
           "yaxis": {
            "backgroundcolor": "#E5ECF6",
            "gridcolor": "white",
            "gridwidth": 2,
            "linecolor": "white",
            "showbackground": true,
            "ticks": "",
            "zerolinecolor": "white"
           },
           "zaxis": {
            "backgroundcolor": "#E5ECF6",
            "gridcolor": "white",
            "gridwidth": 2,
            "linecolor": "white",
            "showbackground": true,
            "ticks": "",
            "zerolinecolor": "white"
           }
          },
          "shapedefaults": {
           "line": {
            "color": "#2a3f5f"
           }
          },
          "ternary": {
           "aaxis": {
            "gridcolor": "white",
            "linecolor": "white",
            "ticks": ""
           },
           "baxis": {
            "gridcolor": "white",
            "linecolor": "white",
            "ticks": ""
           },
           "bgcolor": "#E5ECF6",
           "caxis": {
            "gridcolor": "white",
            "linecolor": "white",
            "ticks": ""
           }
          },
          "title": {
           "x": 0.05
          },
          "xaxis": {
           "automargin": true,
           "gridcolor": "white",
           "linecolor": "white",
           "ticks": "",
           "title": {
            "standoff": 15
           },
           "zerolinecolor": "white",
           "zerolinewidth": 2
          },
          "yaxis": {
           "automargin": true,
           "gridcolor": "white",
           "linecolor": "white",
           "ticks": "",
           "title": {
            "standoff": 15
           },
           "zerolinecolor": "white",
           "zerolinewidth": 2
          }
         }
        },
        "title": {
         "text": "Total Explained Variance: 90.03%"
        }
       }
      },
      "text/html": [
       "<div>                            <div id=\"4e13dd24-ecb4-4a31-b6ad-c62c9e77e1ac\" class=\"plotly-graph-div\" style=\"height:525px; width:100%;\"></div>            <script type=\"text/javascript\">                require([\"plotly\"], function(Plotly) {                    window.PLOTLYENV=window.PLOTLYENV || {};                                    if (document.getElementById(\"4e13dd24-ecb4-4a31-b6ad-c62c9e77e1ac\")) {                    Plotly.newPlot(                        \"4e13dd24-ecb4-4a31-b6ad-c62c9e77e1ac\",                        [{\"hovertemplate\":\"PC1=%{x}<br>PC2=%{y}<br>PC3=%{z}<extra></extra>\",\"legendgroup\":\"\",\"marker\":{\"color\":\"#636efa\",\"symbol\":\"circle\"},\"mode\":\"markers\",\"name\":\"\",\"scene\":\"scene\",\"showlegend\":false,\"x\":[-0.5808127760663265,0.10373053532743122,-0.018388485574910664,-0.621322189373047,0.16090626294367216,0.10532926953668233,0.05473355386634078,0.6014340281301164,0.6571912602582312,1.8931384956693003e-05,0.2895109449024198,0.25642105528608417,-0.10720803434897169,0.2100492338704222,0.11340032875673917,0.5937694575080114,-0.025116257410033118,-0.5370653017335183,-0.0639721391379571,-0.14707365100151773,0.16956876785243208,-0.18868784558744658,0.13676516706372832,0.43492245761981035,0.1402403938871149,-0.6234074866753879,-0.6172963991446221,-0.16917578720914891,-0.5405311784522634,0.640673020815696,-0.04291314600577714,-0.7179956684295132,-0.7583425517021882,0.21226519968530577,0.09447317557984226,0.09166038407647127,-0.41335177393043276,-0.6934049243115273,-0.4142523862926109,0.17759409316110358,-0.5697389194823858,0.23454459588582974,0.41484392091398203,0.3253073418028716,0.726142886740096,-0.011021090611775966,0.012606907734901402,-0.10542339715517643,0.020183977398416583,-0.3680185207555517,-0.3742662771694941,0.22731123784337623,-0.08818703296758458,0.5589960913298478,0.5542050333887736,-0.26305887836974323,-0.4768516883793855,0.04213097007406877,0.614288185789955,-0.37747269441202896,0.42354919175760186,0.048307857289359664,-0.12722731275318994,-0.5736319695391656,-0.5688839802957759,-0.1209317254778247,-0.8073054258106125,0.2468868386132452,0.5221959915474655,-0.17312791729579116,-0.06967718031407782,0.09921929889701617,-0.2337023635707097,0.612536432839178,0.30457821978533556,0.5169283855182727,0.038682222352312105,0.5991969037401508,-0.07253321060329675,-0.002842943228546542,-0.3481756589139876,-0.31720788876993117,0.41701376743231455,-0.14136451233764585,-0.2786136044368451,0.19662444542412175,0.20036769130394097,-0.46242040590569683,-0.48049352840072695,0.12631211202478324,0.20240918192484092,1.236698635230916,0.12321376291798287,-0.39283432309276073,-0.5689723139227081,0.1226249602392601,0.10188992596596533,-0.7050970199523183,0.37969785232525627,-0.4365271356539904,0.13425533320473845,-0.18578900919919977,0.049623557945090255,-0.11365630040316922,0.15328989403660268,-0.04259839125298705,-0.5971896268618287,-0.16840300563049737,-0.2620263347887401,-0.14800666863473214,0.6960250100606483,0.4309530687701722,-0.7596271331248795,-0.6822817143705279,0.9640087781454985,0.1674123252252962,-0.35219912995997676,0.08227370889377746,-0.02816700405572911,0.039761465879004705,-0.13013663294342645,0.24011032572622257,0.3939939324025228,0.7058563309915143,0.1438688502746962,0.13222586927471325,-0.3524664977366808,-0.1648993597292986,0.15699015821134552,-0.40311858964908737,0.15447969320206068,0.1122855218690004,-0.6912989926130223,0.6724900704968866,0.2836461389985095,0.38079035409115025,-0.2768602384411414,-0.18252932609018438,0.37282149974254164,0.4758480053017465,0.026192805070665483,0.034278149257732475,-0.39831870570799294,0.013621600234209195,0.6353212150798874,0.9680330513733674,-0.21719430344772547,-0.48649385231535586,0.1285843007720255,-0.4304064978726574,-0.4817024138585753,-0.1445607350649329,0.06988855002888428,0.1365470987638782,-0.1504442262370018,-0.5837587469229906,0.06792519825577731,0.392100747550813,0.4942874607723132,0.7672292364216802,0.16266342328112718,-0.09082359522040517,-0.19589567151218532,0.06965344179598153,0.004319767988129597,-0.33233636787299886,-0.5586923134503946],\"y\":[0.21707730986649482,-0.26989464350323794,-0.14700581873601912,0.313490533231598,-0.15998132496194867,-0.13111642314567573,-0.2709475099913354,0.24284647025588285,0.2463603526881244,-0.15210632881442543,0.0032570417270992615,-0.04639173989395479,-0.1804264676270035,-0.13889604194684893,-0.2505784893998508,0.25384515486535075,-0.17049603487044016,0.19707459720424775,-0.17464872986898433,-0.10480419998660592,-0.3001224055656918,-0.004106371552069477,-0.1595385838471824,0.08380852810062119,-0.24150315044041962,0.26066432782993465,0.24917345390410153,-0.13050528587266655,0.19478661215572407,0.25800241581628786,-0.17950598410675134,0.3017034134153445,0.38660279512878365,-0.16806968771402092,-0.2704902793317408,-0.21524728173056387,0.09334644449001434,0.31534454125876,0.11018783779039898,-0.2110769327892934,0.2173222915943722,-0.1867115632746312,-0.05196732154575581,-0.1147406984061005,0.4259982195379914,-0.14416798353182367,-0.16793872510396457,-0.11995026587543553,-0.22345617047229813,0.39211894154917776,0.03703158305017216,-0.16703447596118703,-0.14865317832575262,0.19977803573763034,0.21447529255011144,0.09552008210615336,0.15529385099550677,-0.2448366083653143,0.19029163880192465,0.05624403551103252,-0.030621578699262388,-0.18369254521283745,-0.09898488280111087,0.2082823056024137,0.2000619235083612,-0.13311111082440993,0.32170873444024906,-0.1980971585893179,0.19280067104854914,-0.11808578356209938,-0.16735466575327773,-0.21424761324658886,0.04626590669962824,0.2951824174717073,0.08525435029586172,0.05839522521983363,-0.22293905171884743,0.12849759305133882,-0.10140612654126595,-0.10105797580158557,0.03064265740462366,0.005364547437659301,0.11249892008837167,-0.14513455315229437,-0.03163834090676188,-0.21596033053445582,-0.2411915999130292,0.07992276721658921,0.13206029842966419,-0.11193232957616626,-0.19114583986879063,0.9697716664121079,-0.27877902362050194,0.05127686532968584,0.18726291298455225,-0.17929818325750643,-0.2069845738166236,0.34705258321891164,-0.08456777009858689,0.13185361763560954,-0.2246122715041903,-0.05779400593329086,-0.30114726567420924,-0.14657885474574506,-0.23800855088158235,-0.17744685523770518,0.21874917691380236,-0.1309597919713713,0.025780297021956753,-0.1544061543255712,0.35691938444042676,0.10595851846587048,0.3923600816839394,0.32395509667116945,0.6983468239009387,-0.00965619611283775,0.040595157548177795,-0.13732885711212808,-0.1763622728483903,-0.19533229494524315,-0.12697095485345153,-0.20323663813358822,-0.07392650664336048,0.36581855259694934,-0.2277533775999373,-0.18577333165815074,0.034480428773453406,-0.053573247065688466,0.020731182416625596,0.08894800677323933,-0.26979445187511214,-0.15893635375817672,0.3012722020175605,0.1528041219540042,-0.13311116292588382,-0.06037624471109609,-0.0319656983914583,-0.007594080691343144,-0.13369735407768074,-0.009404161506783564,-0.24448560481036208,-0.20262656184890737,0.09670700006265648,-0.11653732200947102,0.29505901834484033,0.6229017951534064,-0.07774486326057979,0.1438032164829371,-0.27207648697176817,0.18134948259057562,0.13017002398579844,-0.08747002018912206,-0.23071763432356845,-0.15912398511305662,-0.07082412489878308,0.2251973224321715,-0.28263748429129515,0.05490869691209854,0.13767965895434783,0.5075164250109981,-0.15353103114972025,-0.1849849034169806,-0.08080167952868401,-0.10921939768473488,-0.25448655480097715,0.04022327026342574,0.19812562750636417],\"z\":[-0.0012797623053901648,-0.0246396340069429,0.10033025851817177,0.09688783297358865,0.009581672679812267,0.09824266263412813,-0.030557462981779367,-0.05904576933840937,-0.10711425793162066,0.0010064540913437786,-0.082607330665172,0.12382732139670476,-0.05746570856006494,-0.05700709830385498,0.022404024982053176,-0.06266863328867468,-0.02620997007173283,-0.04924041379576189,-0.03388195812123466,0.00840228147178278,-0.05926269596690411,-0.07710358950379145,-0.0301910294724811,0.3377772853199141,-0.03982846544621735,-0.02344983600706281,0.03598644570313283,-0.07295066918083332,-0.07586832012963932,-0.11639059324981633,-0.03646612660869455,-0.16119562406206575,-0.024585685228233435,0.034969130038543995,-0.02268578840454101,-0.018864696440753777,-0.023539652605971562,0.07298738308517277,0.07633282243071822,0.007310681632864521,-0.05821370888716494,-0.031866444470200594,0.022728470657872944,-0.020296001406929838,-0.14545232816087228,0.0018336578624034239,0.024126253945528253,0.03839530773833728,-0.02799985484346336,0.1721048358201534,0.012798945085769339,0.006176288332068146,-0.0501327701983301,-0.055532965558222555,-0.09944318330646387,0.06388903790926814,0.02703135620545627,-0.026097499073460862,-0.11615067644966552,0.01475252564855005,-0.06391082429444842,-0.045280003296083005,0.005262656783555244,0.00520392052141931,-0.09173834738116074,-0.058940598015347186,-0.3576696811057442,-0.028791192459116606,0.005429432404893418,-0.05934750438898479,0.023254955496130526,0.05239464538845424,0.10880762908098159,-0.02386336211741924,0.052172393505438945,-0.056297909557786234,0.011516282400806802,-0.107262294343392,0.07718642124470249,0.0872674737982324,-0.04284867274303144,-0.09101456514778375,0.31483478094988937,-0.002907000648862187,-0.0635090600165826,-0.05930492820442833,-0.013231934737848554,-0.20364486468109502,-0.035329539410514504,0.1368630210261933,-0.026533630292303143,0.15509026220998567,-0.049214535575762816,-0.012473105692275579,-0.029719137593660863,0.05628420420212653,0.0037129052454538667,-0.01043388031744244,0.01891359688572337,0.07589971065854545,-0.04240379343528632,-0.05883953114668431,-0.0665143419267649,0.13091876035764505,-0.025473100522494397,-0.03685909114876352,-0.0414463111689491,-0.08016762446255363,-0.07659285264713761,-0.016239776671280064,-0.11206890997773802,-0.027993603222807712,0.0263618748785874,0.4835377794459954,-0.11576131804944767,0.2380925965771988,-0.02278667192683652,0.023043349745358904,0.008656207967549265,0.029489544908841855,-0.01758096755591371,-0.022311499447036184,-0.06308388054084735,0.518251700089703,-0.017695954944622554,0.030397187952989416,-0.03070291807634368,0.03917061253205525,0.2211428642435839,-0.01150606966893584,-0.03461080973566941,-0.009528638391046495,-0.05269621344527861,0.2595734271301163,-0.037136330112740486,-0.03374432712870975,-0.01010743281475966,-0.13160277409219637,0.013141064567223784,-0.05242582086804464,0.09031905902631515,-0.03334098519138216,0.07831677412704831,-0.004443965020327796,-0.06529138012672205,-0.1945761028118506,0.014173020474387921,0.013250326906431359,-0.007254894116400886,0.19381324944262093,-0.07381549517977518,0.022261104110334974,0.00030704988195618326,0.031458411933026224,-0.05190323264523256,0.029093257637187425,-0.024100034359623535,0.21347656888070213,-0.05229587705444929,-0.28393647250850135,-0.002493899658757463,-0.003292313586284102,-0.05459145687755145,0.2304918244582236,-0.008754882282378376,0.11720891112743104,-0.009399425766769585],\"type\":\"scatter3d\"}],                        {\"template\":{\"data\":{\"histogram2dcontour\":[{\"type\":\"histogram2dcontour\",\"colorbar\":{\"outlinewidth\":0,\"ticks\":\"\"},\"colorscale\":[[0.0,\"#0d0887\"],[0.1111111111111111,\"#46039f\"],[0.2222222222222222,\"#7201a8\"],[0.3333333333333333,\"#9c179e\"],[0.4444444444444444,\"#bd3786\"],[0.5555555555555556,\"#d8576b\"],[0.6666666666666666,\"#ed7953\"],[0.7777777777777778,\"#fb9f3a\"],[0.8888888888888888,\"#fdca26\"],[1.0,\"#f0f921\"]]}],\"choropleth\":[{\"type\":\"choropleth\",\"colorbar\":{\"outlinewidth\":0,\"ticks\":\"\"}}],\"histogram2d\":[{\"type\":\"histogram2d\",\"colorbar\":{\"outlinewidth\":0,\"ticks\":\"\"},\"colorscale\":[[0.0,\"#0d0887\"],[0.1111111111111111,\"#46039f\"],[0.2222222222222222,\"#7201a8\"],[0.3333333333333333,\"#9c179e\"],[0.4444444444444444,\"#bd3786\"],[0.5555555555555556,\"#d8576b\"],[0.6666666666666666,\"#ed7953\"],[0.7777777777777778,\"#fb9f3a\"],[0.8888888888888888,\"#fdca26\"],[1.0,\"#f0f921\"]]}],\"heatmap\":[{\"type\":\"heatmap\",\"colorbar\":{\"outlinewidth\":0,\"ticks\":\"\"},\"colorscale\":[[0.0,\"#0d0887\"],[0.1111111111111111,\"#46039f\"],[0.2222222222222222,\"#7201a8\"],[0.3333333333333333,\"#9c179e\"],[0.4444444444444444,\"#bd3786\"],[0.5555555555555556,\"#d8576b\"],[0.6666666666666666,\"#ed7953\"],[0.7777777777777778,\"#fb9f3a\"],[0.8888888888888888,\"#fdca26\"],[1.0,\"#f0f921\"]]}],\"heatmapgl\":[{\"type\":\"heatmapgl\",\"colorbar\":{\"outlinewidth\":0,\"ticks\":\"\"},\"colorscale\":[[0.0,\"#0d0887\"],[0.1111111111111111,\"#46039f\"],[0.2222222222222222,\"#7201a8\"],[0.3333333333333333,\"#9c179e\"],[0.4444444444444444,\"#bd3786\"],[0.5555555555555556,\"#d8576b\"],[0.6666666666666666,\"#ed7953\"],[0.7777777777777778,\"#fb9f3a\"],[0.8888888888888888,\"#fdca26\"],[1.0,\"#f0f921\"]]}],\"contourcarpet\":[{\"type\":\"contourcarpet\",\"colorbar\":{\"outlinewidth\":0,\"ticks\":\"\"}}],\"contour\":[{\"type\":\"contour\",\"colorbar\":{\"outlinewidth\":0,\"ticks\":\"\"},\"colorscale\":[[0.0,\"#0d0887\"],[0.1111111111111111,\"#46039f\"],[0.2222222222222222,\"#7201a8\"],[0.3333333333333333,\"#9c179e\"],[0.4444444444444444,\"#bd3786\"],[0.5555555555555556,\"#d8576b\"],[0.6666666666666666,\"#ed7953\"],[0.7777777777777778,\"#fb9f3a\"],[0.8888888888888888,\"#fdca26\"],[1.0,\"#f0f921\"]]}],\"surface\":[{\"type\":\"surface\",\"colorbar\":{\"outlinewidth\":0,\"ticks\":\"\"},\"colorscale\":[[0.0,\"#0d0887\"],[0.1111111111111111,\"#46039f\"],[0.2222222222222222,\"#7201a8\"],[0.3333333333333333,\"#9c179e\"],[0.4444444444444444,\"#bd3786\"],[0.5555555555555556,\"#d8576b\"],[0.6666666666666666,\"#ed7953\"],[0.7777777777777778,\"#fb9f3a\"],[0.8888888888888888,\"#fdca26\"],[1.0,\"#f0f921\"]]}],\"mesh3d\":[{\"type\":\"mesh3d\",\"colorbar\":{\"outlinewidth\":0,\"ticks\":\"\"}}],\"scatter\":[{\"fillpattern\":{\"fillmode\":\"overlay\",\"size\":10,\"solidity\":0.2},\"type\":\"scatter\"}],\"parcoords\":[{\"type\":\"parcoords\",\"line\":{\"colorbar\":{\"outlinewidth\":0,\"ticks\":\"\"}}}],\"scatterpolargl\":[{\"type\":\"scatterpolargl\",\"marker\":{\"colorbar\":{\"outlinewidth\":0,\"ticks\":\"\"}}}],\"bar\":[{\"error_x\":{\"color\":\"#2a3f5f\"},\"error_y\":{\"color\":\"#2a3f5f\"},\"marker\":{\"line\":{\"color\":\"#E5ECF6\",\"width\":0.5},\"pattern\":{\"fillmode\":\"overlay\",\"size\":10,\"solidity\":0.2}},\"type\":\"bar\"}],\"scattergeo\":[{\"type\":\"scattergeo\",\"marker\":{\"colorbar\":{\"outlinewidth\":0,\"ticks\":\"\"}}}],\"scatterpolar\":[{\"type\":\"scatterpolar\",\"marker\":{\"colorbar\":{\"outlinewidth\":0,\"ticks\":\"\"}}}],\"histogram\":[{\"marker\":{\"pattern\":{\"fillmode\":\"overlay\",\"size\":10,\"solidity\":0.2}},\"type\":\"histogram\"}],\"scattergl\":[{\"type\":\"scattergl\",\"marker\":{\"colorbar\":{\"outlinewidth\":0,\"ticks\":\"\"}}}],\"scatter3d\":[{\"type\":\"scatter3d\",\"line\":{\"colorbar\":{\"outlinewidth\":0,\"ticks\":\"\"}},\"marker\":{\"colorbar\":{\"outlinewidth\":0,\"ticks\":\"\"}}}],\"scattermapbox\":[{\"type\":\"scattermapbox\",\"marker\":{\"colorbar\":{\"outlinewidth\":0,\"ticks\":\"\"}}}],\"scatterternary\":[{\"type\":\"scatterternary\",\"marker\":{\"colorbar\":{\"outlinewidth\":0,\"ticks\":\"\"}}}],\"scattercarpet\":[{\"type\":\"scattercarpet\",\"marker\":{\"colorbar\":{\"outlinewidth\":0,\"ticks\":\"\"}}}],\"carpet\":[{\"aaxis\":{\"endlinecolor\":\"#2a3f5f\",\"gridcolor\":\"white\",\"linecolor\":\"white\",\"minorgridcolor\":\"white\",\"startlinecolor\":\"#2a3f5f\"},\"baxis\":{\"endlinecolor\":\"#2a3f5f\",\"gridcolor\":\"white\",\"linecolor\":\"white\",\"minorgridcolor\":\"white\",\"startlinecolor\":\"#2a3f5f\"},\"type\":\"carpet\"}],\"table\":[{\"cells\":{\"fill\":{\"color\":\"#EBF0F8\"},\"line\":{\"color\":\"white\"}},\"header\":{\"fill\":{\"color\":\"#C8D4E3\"},\"line\":{\"color\":\"white\"}},\"type\":\"table\"}],\"barpolar\":[{\"marker\":{\"line\":{\"color\":\"#E5ECF6\",\"width\":0.5},\"pattern\":{\"fillmode\":\"overlay\",\"size\":10,\"solidity\":0.2}},\"type\":\"barpolar\"}],\"pie\":[{\"automargin\":true,\"type\":\"pie\"}]},\"layout\":{\"autotypenumbers\":\"strict\",\"colorway\":[\"#636efa\",\"#EF553B\",\"#00cc96\",\"#ab63fa\",\"#FFA15A\",\"#19d3f3\",\"#FF6692\",\"#B6E880\",\"#FF97FF\",\"#FECB52\"],\"font\":{\"color\":\"#2a3f5f\"},\"hovermode\":\"closest\",\"hoverlabel\":{\"align\":\"left\"},\"paper_bgcolor\":\"white\",\"plot_bgcolor\":\"#E5ECF6\",\"polar\":{\"bgcolor\":\"#E5ECF6\",\"angularaxis\":{\"gridcolor\":\"white\",\"linecolor\":\"white\",\"ticks\":\"\"},\"radialaxis\":{\"gridcolor\":\"white\",\"linecolor\":\"white\",\"ticks\":\"\"}},\"ternary\":{\"bgcolor\":\"#E5ECF6\",\"aaxis\":{\"gridcolor\":\"white\",\"linecolor\":\"white\",\"ticks\":\"\"},\"baxis\":{\"gridcolor\":\"white\",\"linecolor\":\"white\",\"ticks\":\"\"},\"caxis\":{\"gridcolor\":\"white\",\"linecolor\":\"white\",\"ticks\":\"\"}},\"coloraxis\":{\"colorbar\":{\"outlinewidth\":0,\"ticks\":\"\"}},\"colorscale\":{\"sequential\":[[0.0,\"#0d0887\"],[0.1111111111111111,\"#46039f\"],[0.2222222222222222,\"#7201a8\"],[0.3333333333333333,\"#9c179e\"],[0.4444444444444444,\"#bd3786\"],[0.5555555555555556,\"#d8576b\"],[0.6666666666666666,\"#ed7953\"],[0.7777777777777778,\"#fb9f3a\"],[0.8888888888888888,\"#fdca26\"],[1.0,\"#f0f921\"]],\"sequentialminus\":[[0.0,\"#0d0887\"],[0.1111111111111111,\"#46039f\"],[0.2222222222222222,\"#7201a8\"],[0.3333333333333333,\"#9c179e\"],[0.4444444444444444,\"#bd3786\"],[0.5555555555555556,\"#d8576b\"],[0.6666666666666666,\"#ed7953\"],[0.7777777777777778,\"#fb9f3a\"],[0.8888888888888888,\"#fdca26\"],[1.0,\"#f0f921\"]],\"diverging\":[[0,\"#8e0152\"],[0.1,\"#c51b7d\"],[0.2,\"#de77ae\"],[0.3,\"#f1b6da\"],[0.4,\"#fde0ef\"],[0.5,\"#f7f7f7\"],[0.6,\"#e6f5d0\"],[0.7,\"#b8e186\"],[0.8,\"#7fbc41\"],[0.9,\"#4d9221\"],[1,\"#276419\"]]},\"xaxis\":{\"gridcolor\":\"white\",\"linecolor\":\"white\",\"ticks\":\"\",\"title\":{\"standoff\":15},\"zerolinecolor\":\"white\",\"automargin\":true,\"zerolinewidth\":2},\"yaxis\":{\"gridcolor\":\"white\",\"linecolor\":\"white\",\"ticks\":\"\",\"title\":{\"standoff\":15},\"zerolinecolor\":\"white\",\"automargin\":true,\"zerolinewidth\":2},\"scene\":{\"xaxis\":{\"backgroundcolor\":\"#E5ECF6\",\"gridcolor\":\"white\",\"linecolor\":\"white\",\"showbackground\":true,\"ticks\":\"\",\"zerolinecolor\":\"white\",\"gridwidth\":2},\"yaxis\":{\"backgroundcolor\":\"#E5ECF6\",\"gridcolor\":\"white\",\"linecolor\":\"white\",\"showbackground\":true,\"ticks\":\"\",\"zerolinecolor\":\"white\",\"gridwidth\":2},\"zaxis\":{\"backgroundcolor\":\"#E5ECF6\",\"gridcolor\":\"white\",\"linecolor\":\"white\",\"showbackground\":true,\"ticks\":\"\",\"zerolinecolor\":\"white\",\"gridwidth\":2}},\"shapedefaults\":{\"line\":{\"color\":\"#2a3f5f\"}},\"annotationdefaults\":{\"arrowcolor\":\"#2a3f5f\",\"arrowhead\":0,\"arrowwidth\":1},\"geo\":{\"bgcolor\":\"white\",\"landcolor\":\"#E5ECF6\",\"subunitcolor\":\"white\",\"showland\":true,\"showlakes\":true,\"lakecolor\":\"white\"},\"title\":{\"x\":0.05},\"mapbox\":{\"style\":\"light\"}}},\"scene\":{\"domain\":{\"x\":[0.0,1.0],\"y\":[0.0,1.0]},\"xaxis\":{\"title\":{\"text\":\"PC1\"}},\"yaxis\":{\"title\":{\"text\":\"PC2\"}},\"zaxis\":{\"title\":{\"text\":\"PC3\"}}},\"legend\":{\"tracegroupgap\":0},\"title\":{\"text\":\"Total Explained Variance: 90.03%\"}},                        {\"responsive\": true}                    ).then(function(){\n",
       "                            \n",
       "var gd = document.getElementById('4e13dd24-ecb4-4a31-b6ad-c62c9e77e1ac');\n",
       "var x = new MutationObserver(function (mutations, observer) {{\n",
       "        var display = window.getComputedStyle(gd).display;\n",
       "        if (!display || display === 'none') {{\n",
       "            console.log([gd, 'removed!']);\n",
       "            Plotly.purge(gd);\n",
       "            observer.disconnect();\n",
       "        }}\n",
       "}});\n",
       "\n",
       "// Listen for the removal of the full notebook cells\n",
       "var notebookContainer = gd.closest('#notebook-container');\n",
       "if (notebookContainer) {{\n",
       "    x.observe(notebookContainer, {childList: true});\n",
       "}}\n",
       "\n",
       "// Listen for the clearing of the current output cell\n",
       "var outputEl = gd.closest('.output');\n",
       "if (outputEl) {{\n",
       "    x.observe(outputEl, {childList: true});\n",
       "}}\n",
       "\n",
       "                        })                };                });            </script>        </div>"
      ]
     },
     "metadata": {},
     "output_type": "display_data"
    }
   ],
   "source": [
    "total_var = pca.explained_variance_ratio_[:3].sum() * 100\n",
    "\n",
    "fig = px.scatter_3d(\n",
    "    X_proj, x='PC1', y='PC2', z='PC3',\n",
    "    title=f'Total Explained Variance: {total_var:.2f}%',\n",
    ")\n",
    "fig.show()"
   ]
  },
  {
   "cell_type": "code",
   "execution_count": 75,
   "id": "fc54093a",
   "metadata": {},
   "outputs": [
    {
     "data": {
      "text/plain": [
       "health        0.401519\n",
       "life_expec    0.388670\n",
       "gdpp          0.363468\n",
       "income        0.310525\n",
       "exports       0.144448\n",
       "inflation    -0.079934\n",
       "child_mort   -0.422950\n",
       "total_fer    -0.503033\n",
       "Name: PC1, dtype: float64"
      ]
     },
     "execution_count": 75,
     "metadata": {},
     "output_type": "execute_result"
    }
   ],
   "source": [
    "W.PC1.sort_values(ascending=False)"
   ]
  },
  {
   "cell_type": "markdown",
   "id": "9e8cca7c",
   "metadata": {},
   "source": [
    "Health, life expect and gdpp are the most important features in PC1"
   ]
  },
  {
   "cell_type": "code",
   "execution_count": 76,
   "id": "5bc7d3b2",
   "metadata": {},
   "outputs": [
    {
     "data": {
      "text/plain": [
       "health        0.525415\n",
       "total_fer     0.496962\n",
       "gdpp          0.433278\n",
       "child_mort    0.373733\n",
       "income        0.261668\n",
       "exports       0.217255\n",
       "inflation     0.032280\n",
       "life_expec   -0.181243\n",
       "Name: PC2, dtype: float64"
      ]
     },
     "execution_count": 76,
     "metadata": {},
     "output_type": "execute_result"
    }
   ],
   "source": [
    "W.PC2.sort_values(ascending=False)"
   ]
  },
  {
   "cell_type": "code",
   "execution_count": 77,
   "id": "1063096d",
   "metadata": {
    "scrolled": true
   },
   "outputs": [
    {
     "data": {
      "image/png": "[encoded data removed]",
      "text/plain": [
       "<Figure size 576x432 with 1 Axes>"
      ]
     },
     "metadata": {
      "needs_background": "light"
     },
     "output_type": "display_data"
    }
   ],
   "source": [
    "fig = plt.figure(figsize = (8,6))\n",
    "plt.scatter(W.PC1, W.PC2)\n",
    "plt.xlabel('PCA 1')\n",
    "plt.ylabel('PCA 2')\n",
    "for i, txt in enumerate(W.index):\n",
    "    plt.annotate(txt, (W.PC1[i],W.PC2[i]))"
   ]
  },
  {
   "cell_type": "markdown",
   "id": "b41a580e",
   "metadata": {},
   "source": [
    "PCA1 = Health, GDPP and life expectancy are highest;\n",
    "PCA2 = Health, total fertility and GDPP are highest"
   ]
  },
  {
   "cell_type": "markdown",
   "id": "59b913df",
   "metadata": {},
   "source": [
    "# Dimensionalilty reduction, k=3"
   ]
  },
  {
   "cell_type": "code",
   "execution_count": 78,
   "id": "b25a7297",
   "metadata": {},
   "outputs": [
    {
     "data": {
      "text/html": [
       "<div>\n",
       "<style scoped>\n",
       "    .dataframe tbody tr th:only-of-type {\n",
       "        vertical-align: middle;\n",
       "    }\n",
       "\n",
       "    .dataframe tbody tr th {\n",
       "        vertical-align: top;\n",
       "    }\n",
       "\n",
       "    .dataframe thead th {\n",
       "        text-align: right;\n",
       "    }\n",
       "</style>\n",
       "<table border=\"1\" class=\"dataframe\">\n",
       "  <thead>\n",
       "    <tr style=\"text-align: right;\">\n",
       "      <th></th>\n",
       "      <th>PC1</th>\n",
       "      <th>PC2</th>\n",
       "      <th>PC3</th>\n",
       "    </tr>\n",
       "  </thead>\n",
       "  <tbody>\n",
       "    <tr>\n",
       "      <th>0</th>\n",
       "      <td>-0.580813</td>\n",
       "      <td>0.217077</td>\n",
       "      <td>-0.001280</td>\n",
       "    </tr>\n",
       "    <tr>\n",
       "      <th>1</th>\n",
       "      <td>0.103731</td>\n",
       "      <td>-0.269895</td>\n",
       "      <td>-0.024640</td>\n",
       "    </tr>\n",
       "    <tr>\n",
       "      <th>2</th>\n",
       "      <td>-0.018388</td>\n",
       "      <td>-0.147006</td>\n",
       "      <td>0.100330</td>\n",
       "    </tr>\n",
       "    <tr>\n",
       "      <th>3</th>\n",
       "      <td>-0.621322</td>\n",
       "      <td>0.313491</td>\n",
       "      <td>0.096888</td>\n",
       "    </tr>\n",
       "    <tr>\n",
       "      <th>4</th>\n",
       "      <td>0.160906</td>\n",
       "      <td>-0.159981</td>\n",
       "      <td>0.009582</td>\n",
       "    </tr>\n",
       "    <tr>\n",
       "      <th>...</th>\n",
       "      <td>...</td>\n",
       "      <td>...</td>\n",
       "      <td>...</td>\n",
       "    </tr>\n",
       "    <tr>\n",
       "      <th>162</th>\n",
       "      <td>-0.195896</td>\n",
       "      <td>-0.080802</td>\n",
       "      <td>-0.054591</td>\n",
       "    </tr>\n",
       "    <tr>\n",
       "      <th>163</th>\n",
       "      <td>0.069653</td>\n",
       "      <td>-0.109219</td>\n",
       "      <td>0.230492</td>\n",
       "    </tr>\n",
       "    <tr>\n",
       "      <th>164</th>\n",
       "      <td>0.004320</td>\n",
       "      <td>-0.254487</td>\n",
       "      <td>-0.008755</td>\n",
       "    </tr>\n",
       "    <tr>\n",
       "      <th>165</th>\n",
       "      <td>-0.332336</td>\n",
       "      <td>0.040223</td>\n",
       "      <td>0.117209</td>\n",
       "    </tr>\n",
       "    <tr>\n",
       "      <th>166</th>\n",
       "      <td>-0.558692</td>\n",
       "      <td>0.198126</td>\n",
       "      <td>-0.009399</td>\n",
       "    </tr>\n",
       "  </tbody>\n",
       "</table>\n",
       "<p>167 rows × 3 columns</p>\n",
       "</div>"
      ],
      "text/plain": [
       "          PC1       PC2       PC3\n",
       "0   -0.580813  0.217077 -0.001280\n",
       "1    0.103731 -0.269895 -0.024640\n",
       "2   -0.018388 -0.147006  0.100330\n",
       "3   -0.621322  0.313491  0.096888\n",
       "4    0.160906 -0.159981  0.009582\n",
       "..        ...       ...       ...\n",
       "162 -0.195896 -0.080802 -0.054591\n",
       "163  0.069653 -0.109219  0.230492\n",
       "164  0.004320 -0.254487 -0.008755\n",
       "165 -0.332336  0.040223  0.117209\n",
       "166 -0.558692  0.198126 -0.009399\n",
       "\n",
       "[167 rows x 3 columns]"
      ]
     },
     "execution_count": 78,
     "metadata": {},
     "output_type": "execute_result"
    }
   ],
   "source": [
    "# Compress data into 3 dimensions\n",
    "pca3 = PCA(n_components=3).fit(df_scaled)\n",
    "\n",
    "# Project data into 3d\n",
    "X_proj3 = pd.DataFrame(pca3.fit_transform(df_scaled), columns=['PC1','PC2','PC3'])\n",
    "\n",
    "X_proj3\n"
   ]
  },
  {
   "cell_type": "code",
   "execution_count": 79,
   "id": "7efd8d34",
   "metadata": {},
   "outputs": [
    {
     "data": {
      "text/plain": [
       "(167, 8)"
      ]
     },
     "execution_count": 79,
     "metadata": {},
     "output_type": "execute_result"
    }
   ],
   "source": [
    "# Check performance of reduced dimensions by reconstructing data\n",
    "X_reconstructed = pca3.inverse_transform(X_proj3)\n",
    "X_reconstructed.shape"
   ]
  },
  {
   "cell_type": "code",
   "execution_count": 80,
   "id": "9d71cbb3",
   "metadata": {},
   "outputs": [
    {
     "data": {
      "image/png": "[encoded data removed]",
      "text/plain": [
       "<Figure size 1080x288 with 4 Axes>"
      ]
     },
     "metadata": {
      "needs_background": "light"
     },
     "output_type": "display_data"
    }
   ],
   "source": [
    "plt.figure(figsize=(15,4))\n",
    "plt.subplot(1,2,1)\n",
    "sns.heatmap(df_scaled)\n",
    "plt.title(\"original data\")\n",
    "plt.subplot(1,2,2)\n",
    "plt.title(\"reconstructed data\")\n",
    "sns.heatmap(X_reconstructed);"
   ]
  },
  {
   "cell_type": "markdown",
   "id": "7dba303e",
   "metadata": {},
   "source": [
    "# KMeans"
   ]
  },
  {
   "cell_type": "code",
   "execution_count": 81,
   "id": "c10bf1db",
   "metadata": {},
   "outputs": [
    {
     "data": {
      "text/plain": [
       "KMeans(n_clusters=3)"
      ]
     },
     "execution_count": 81,
     "metadata": {},
     "output_type": "execute_result"
    }
   ],
   "source": [
    "# Cluster DF using KMeans\n",
    "km = KMeans(n_clusters=3)\n",
    "\n",
    "# Use PCA projeted DF to optimise KMeans as works best on data that is already clustered\n",
    "km.fit(X_proj)\n"
   ]
  },
  {
   "cell_type": "code",
   "execution_count": 82,
   "id": "cddf330f",
   "metadata": {
    "scrolled": true
   },
   "outputs": [
    {
     "data": {
      "text/plain": [
       "(3, 8)"
      ]
     },
     "execution_count": 82,
     "metadata": {},
     "output_type": "execute_result"
    }
   ],
   "source": [
    "km.cluster_centers_.shape"
   ]
  },
  {
   "cell_type": "markdown",
   "id": "c2bb472d",
   "metadata": {},
   "source": [
    "There are 3 clusters with 8 PCs"
   ]
  },
  {
   "cell_type": "code",
   "execution_count": 83,
   "id": "92f479e5",
   "metadata": {},
   "outputs": [
    {
     "data": {
      "text/plain": [
       "array([0, 1, 1, 0, 1, 1, 1, 2, 2, 1, 1, 1, 1, 1, 1, 2, 1, 0, 1, 1, 1, 1,\n",
       "       1, 2, 1, 0, 0, 1, 0, 2, 1, 0, 0, 1, 1, 1, 0, 0, 0, 1, 0, 1, 2, 1,\n",
       "       2, 1, 1, 1, 1, 0, 0, 1, 1, 2, 2, 0, 0, 1, 2, 0, 2, 1, 1, 0, 0, 1,\n",
       "       0, 1, 2, 1, 1, 1, 0, 2, 2, 2, 1, 2, 1, 1, 0, 0, 2, 1, 0, 1, 1, 0,\n",
       "       0, 1, 1, 2, 1, 0, 0, 1, 1, 0, 1, 0, 1, 1, 1, 1, 1, 1, 0, 1, 0, 1,\n",
       "       2, 2, 0, 0, 2, 1, 0, 1, 1, 1, 1, 1, 1, 2, 1, 1, 0, 1, 1, 0, 1, 1,\n",
       "       0, 2, 1, 1, 0, 1, 1, 2, 1, 1, 0, 1, 2, 2, 1, 0, 1, 0, 0, 1, 1, 1,\n",
       "       1, 0, 1, 2, 2, 2, 1, 1, 1, 1, 1, 0, 0], dtype=int32)"
      ]
     },
     "execution_count": 83,
     "metadata": {},
     "output_type": "execute_result"
    }
   ],
   "source": [
    "km.labels_"
   ]
  },
  {
   "cell_type": "markdown",
   "id": "9f2aa1fc",
   "metadata": {},
   "source": [
    "Each row of data is assigned to three labels"
   ]
  },
  {
   "cell_type": "code",
   "execution_count": 84,
   "id": "8f004e70",
   "metadata": {},
   "outputs": [
    {
     "data": {
      "image/png": "[encoded data removed]",
      "text/plain": [
       "<Figure size 432x288 with 1 Axes>"
      ]
     },
     "metadata": {
      "needs_background": "light"
     },
     "output_type": "display_data"
    }
   ],
   "source": [
    "plt.scatter(X_proj.iloc[:,0], X_proj.iloc[:,1], c=km.labels_)\n",
    "plt.title('KMeans clustering of each row of data'); plt.xlabel('PC 1'); plt.ylabel('PC 2');"
   ]
  },
  {
   "cell_type": "code",
   "execution_count": 85,
   "id": "f7fe86e8",
   "metadata": {
    "scrolled": true
   },
   "outputs": [
    {
     "name": "stdout",
     "output_type": "stream",
     "text": [
      " Inertia for 3 clusters is 12.633151321129764\n"
     ]
    }
   ],
   "source": [
    "print(f' Inertia for 3 clusters is {km.inertia_}')"
   ]
  },
  {
   "cell_type": "code",
   "execution_count": 86,
   "id": "15c184f6",
   "metadata": {},
   "outputs": [
    {
     "name": "stdout",
     "output_type": "stream",
     "text": [
      " The number of iterations to converge: 5\n"
     ]
    }
   ],
   "source": [
    "print(f' The number of iterations to converge: {km.n_iter_}')"
   ]
  },
  {
   "cell_type": "markdown",
   "id": "b5b062ef",
   "metadata": {},
   "source": [
    "## Optimise for best hyperparameter, n_clusters"
   ]
  },
  {
   "cell_type": "code",
   "execution_count": 87,
   "id": "994d9199",
   "metadata": {},
   "outputs": [
    {
     "name": "stdout",
     "output_type": "stream",
     "text": [
      " 1 cluster(s): inertia score 40.40950324089544\n",
      " 2 cluster(s): inertia score 22.83027306107436\n",
      " 3 cluster(s): inertia score 12.633151321129764\n",
      " 4 cluster(s): inertia score 10.668686007036166\n",
      " 5 cluster(s): inertia score 8.973667677941783\n",
      " 6 cluster(s): inertia score 7.96376446322155\n",
      " 7 cluster(s): inertia score 7.149277465098522\n",
      " 8 cluster(s): inertia score 6.330807764241107\n",
      " 9 cluster(s): inertia score 5.579543089339172\n"
     ]
    },
    {
     "data": {
      "image/png": "[encoded data removed]",
      "text/plain": [
       "<Figure size 432x288 with 1 Axes>"
      ]
     },
     "metadata": {
      "needs_background": "light"
     },
     "output_type": "display_data"
    }
   ],
   "source": [
    "# Find optimal number of clusters such that loss function, inertia, is minimised\n",
    "inertias=[]\n",
    "ks=list(range(1,10))\n",
    "\n",
    "for k in ks:\n",
    "    kmtest = KMeans(n_clusters=k).fit(X_proj)\n",
    "    print(f' {k} cluster(s): inertia score {kmtest.inertia_}')\n",
    "    inertias.append(kmtest.inertia_)\n",
    "\n",
    "plt.plot(ks,inertias)\n",
    "plt.xlabel('Number of clusters')\n",
    "plt.ylabel('Inertia score');\n"
   ]
  },
  {
   "cell_type": "markdown",
   "id": "12121bf7",
   "metadata": {},
   "source": [
    "Using elbow method, optimum number of clusters is 3"
   ]
  },
  {
   "cell_type": "markdown",
   "id": "7111a2d4",
   "metadata": {},
   "source": [
    "# Analyse clusters"
   ]
  },
  {
   "cell_type": "code",
   "execution_count": 91,
   "id": "9c196587",
   "metadata": {},
   "outputs": [],
   "source": [
    "km_df = pd.DataFrame(km.labels_)"
   ]
  },
  {
   "cell_type": "code",
   "execution_count": 98,
   "id": "2f240746",
   "metadata": {},
   "outputs": [
    {
     "data": {
      "text/html": [
       "<div>\n",
       "<style scoped>\n",
       "    .dataframe tbody tr th:only-of-type {\n",
       "        vertical-align: middle;\n",
       "    }\n",
       "\n",
       "    .dataframe tbody tr th {\n",
       "        vertical-align: top;\n",
       "    }\n",
       "\n",
       "    .dataframe thead th {\n",
       "        text-align: right;\n",
       "    }\n",
       "</style>\n",
       "<table border=\"1\" class=\"dataframe\">\n",
       "  <thead>\n",
       "    <tr style=\"text-align: right;\">\n",
       "      <th></th>\n",
       "      <th>country</th>\n",
       "      <th>child_mort</th>\n",
       "      <th>exports</th>\n",
       "      <th>health</th>\n",
       "      <th>imports</th>\n",
       "      <th>income</th>\n",
       "      <th>inflation</th>\n",
       "      <th>life_expec</th>\n",
       "      <th>total_fer</th>\n",
       "      <th>gdpp</th>\n",
       "      <th>KM_Label</th>\n",
       "    </tr>\n",
       "  </thead>\n",
       "  <tbody>\n",
       "    <tr>\n",
       "      <th>0</th>\n",
       "      <td>Afghanistan</td>\n",
       "      <td>90.2</td>\n",
       "      <td>55.3</td>\n",
       "      <td>41.9174</td>\n",
       "      <td>248.297</td>\n",
       "      <td>1610</td>\n",
       "      <td>9.44</td>\n",
       "      <td>56.2</td>\n",
       "      <td>5.82</td>\n",
       "      <td>553</td>\n",
       "      <td>0</td>\n",
       "    </tr>\n",
       "    <tr>\n",
       "      <th>1</th>\n",
       "      <td>Albania</td>\n",
       "      <td>16.6</td>\n",
       "      <td>1145.2</td>\n",
       "      <td>267.8950</td>\n",
       "      <td>1987.740</td>\n",
       "      <td>9930</td>\n",
       "      <td>4.49</td>\n",
       "      <td>76.3</td>\n",
       "      <td>1.65</td>\n",
       "      <td>4090</td>\n",
       "      <td>1</td>\n",
       "    </tr>\n",
       "  </tbody>\n",
       "</table>\n",
       "</div>"
      ],
      "text/plain": [
       "       country  child_mort  exports    health   imports  income  inflation  \\\n",
       "0  Afghanistan        90.2     55.3   41.9174   248.297    1610       9.44   \n",
       "1      Albania        16.6   1145.2  267.8950  1987.740    9930       4.49   \n",
       "\n",
       "   life_expec  total_fer  gdpp  KM_Label  \n",
       "0        56.2       5.82   553         0  \n",
       "1        76.3       1.65  4090         1  "
      ]
     },
     "execution_count": 98,
     "metadata": {},
     "output_type": "execute_result"
    }
   ],
   "source": [
    "# Combine original DF with the KMeans labels\n",
    "combined = pd.concat([df,km_df], axis = 1)\n",
    "combined.rename(columns={0:'KM_Label'},inplace=True)\n",
    "combined.head(2)"
   ]
  },
  {
   "cell_type": "code",
   "execution_count": 110,
   "id": "b47c1dfc",
   "metadata": {},
   "outputs": [],
   "source": [
    "mean = combined.groupby(['KM_Label']).mean()"
   ]
  },
  {
   "cell_type": "code",
   "execution_count": 115,
   "id": "f9c7c636",
   "metadata": {},
   "outputs": [],
   "source": [
    "mean.reset_index(inplace=True)"
   ]
  },
  {
   "cell_type": "code",
   "execution_count": 118,
   "id": "046347de",
   "metadata": {},
   "outputs": [
    {
     "data": {
      "text/html": [
       "<div>\n",
       "<style scoped>\n",
       "    .dataframe tbody tr th:only-of-type {\n",
       "        vertical-align: middle;\n",
       "    }\n",
       "\n",
       "    .dataframe tbody tr th {\n",
       "        vertical-align: top;\n",
       "    }\n",
       "\n",
       "    .dataframe thead th {\n",
       "        text-align: right;\n",
       "    }\n",
       "</style>\n",
       "<table border=\"1\" class=\"dataframe\">\n",
       "  <thead>\n",
       "    <tr style=\"text-align: right;\">\n",
       "      <th></th>\n",
       "      <th>KM_Label</th>\n",
       "      <th>child_mort</th>\n",
       "      <th>exports</th>\n",
       "      <th>health</th>\n",
       "      <th>imports</th>\n",
       "      <th>income</th>\n",
       "      <th>inflation</th>\n",
       "      <th>life_expec</th>\n",
       "      <th>total_fer</th>\n",
       "      <th>gdpp</th>\n",
       "    </tr>\n",
       "  </thead>\n",
       "  <tbody>\n",
       "    <tr>\n",
       "      <th>0</th>\n",
       "      <td>0</td>\n",
       "      <td>93.284783</td>\n",
       "      <td>811.834109</td>\n",
       "      <td>94.207885</td>\n",
       "      <td>748.806761</td>\n",
       "      <td>3516.804348</td>\n",
       "      <td>12.097065</td>\n",
       "      <td>59.393478</td>\n",
       "      <td>5.090217</td>\n",
       "      <td>1695.913043</td>\n",
       "    </tr>\n",
       "    <tr>\n",
       "      <th>1</th>\n",
       "      <td>1</td>\n",
       "      <td>21.271739</td>\n",
       "      <td>3787.569332</td>\n",
       "      <td>518.478070</td>\n",
       "      <td>3881.208599</td>\n",
       "      <td>13765.108696</td>\n",
       "      <td>7.174750</td>\n",
       "      <td>72.986957</td>\n",
       "      <td>2.235978</td>\n",
       "      <td>7645.673913</td>\n",
       "    </tr>\n",
       "    <tr>\n",
       "      <th>2</th>\n",
       "      <td>2</td>\n",
       "      <td>4.931034</td>\n",
       "      <td>29429.055172</td>\n",
       "      <td>4291.065517</td>\n",
       "      <td>24439.258621</td>\n",
       "      <td>49482.758621</td>\n",
       "      <td>2.862897</td>\n",
       "      <td>80.548276</td>\n",
       "      <td>1.808621</td>\n",
       "      <td>47710.344828</td>\n",
       "    </tr>\n",
       "  </tbody>\n",
       "</table>\n",
       "</div>"
      ],
      "text/plain": [
       "   KM_Label  child_mort       exports       health       imports  \\\n",
       "0         0   93.284783    811.834109    94.207885    748.806761   \n",
       "1         1   21.271739   3787.569332   518.478070   3881.208599   \n",
       "2         2    4.931034  29429.055172  4291.065517  24439.258621   \n",
       "\n",
       "         income  inflation  life_expec  total_fer          gdpp  \n",
       "0   3516.804348  12.097065   59.393478   5.090217   1695.913043  \n",
       "1  13765.108696   7.174750   72.986957   2.235978   7645.673913  \n",
       "2  49482.758621   2.862897   80.548276   1.808621  47710.344828  "
      ]
     },
     "execution_count": 118,
     "metadata": {},
     "output_type": "execute_result"
    }
   ],
   "source": [
    "mean"
   ]
  },
  {
   "cell_type": "code",
   "execution_count": 136,
   "id": "16a0bcc0",
   "metadata": {},
   "outputs": [
    {
     "data": {
      "image/png": "[encoded data removed]",
      "text/plain": [
       "<Figure size 1080x576 with 9 Axes>"
      ]
     },
     "metadata": {
      "needs_background": "light"
     },
     "output_type": "display_data"
    }
   ],
   "source": [
    "count=1\n",
    "plt.subplots(figsize=(15, 8))\n",
    "for c in ['child_mort','exports','health','imports','income','inflation','life_expec','total_fer','gdpp']:\n",
    "    plt.subplot(3,3,count)\n",
    "    sns.barplot(x=mean.index,y=c,data=mean)\n",
    "    count+=1\n",
    "    \n",
    "plt.show()\n",
    "    "
   ]
  },
  {
   "cell_type": "markdown",
   "id": "d45c488a",
   "metadata": {},
   "source": [
    "From the graphs it can be inferred that countries in Group 0 are less developed, Group 1  more developed and Group 2  most developed."
   ]
  },
  {
   "cell_type": "code",
   "execution_count": 137,
   "id": "fc1ec3bc",
   "metadata": {},
   "outputs": [
    {
     "data": {
      "text/html": [
       "<div>\n",
       "<style scoped>\n",
       "    .dataframe tbody tr th:only-of-type {\n",
       "        vertical-align: middle;\n",
       "    }\n",
       "\n",
       "    .dataframe tbody tr th {\n",
       "        vertical-align: top;\n",
       "    }\n",
       "\n",
       "    .dataframe thead th {\n",
       "        text-align: right;\n",
       "    }\n",
       "</style>\n",
       "<table border=\"1\" class=\"dataframe\">\n",
       "  <thead>\n",
       "    <tr style=\"text-align: right;\">\n",
       "      <th></th>\n",
       "      <th>country</th>\n",
       "      <th>child_mort</th>\n",
       "      <th>exports</th>\n",
       "      <th>health</th>\n",
       "      <th>imports</th>\n",
       "      <th>income</th>\n",
       "      <th>inflation</th>\n",
       "      <th>life_expec</th>\n",
       "      <th>total_fer</th>\n",
       "      <th>gdpp</th>\n",
       "      <th>KM_Label</th>\n",
       "    </tr>\n",
       "  </thead>\n",
       "  <tbody>\n",
       "    <tr>\n",
       "      <th>0</th>\n",
       "      <td>Afghanistan</td>\n",
       "      <td>90.2</td>\n",
       "      <td>55.30</td>\n",
       "      <td>41.9174</td>\n",
       "      <td>248.297</td>\n",
       "      <td>1610</td>\n",
       "      <td>9.44</td>\n",
       "      <td>56.2</td>\n",
       "      <td>5.82</td>\n",
       "      <td>553</td>\n",
       "      <td>0</td>\n",
       "    </tr>\n",
       "    <tr>\n",
       "      <th>1</th>\n",
       "      <td>Albania</td>\n",
       "      <td>16.6</td>\n",
       "      <td>1145.20</td>\n",
       "      <td>267.8950</td>\n",
       "      <td>1987.740</td>\n",
       "      <td>9930</td>\n",
       "      <td>4.49</td>\n",
       "      <td>76.3</td>\n",
       "      <td>1.65</td>\n",
       "      <td>4090</td>\n",
       "      <td>1</td>\n",
       "    </tr>\n",
       "    <tr>\n",
       "      <th>2</th>\n",
       "      <td>Algeria</td>\n",
       "      <td>27.3</td>\n",
       "      <td>1712.64</td>\n",
       "      <td>185.9820</td>\n",
       "      <td>1400.440</td>\n",
       "      <td>12900</td>\n",
       "      <td>16.10</td>\n",
       "      <td>76.5</td>\n",
       "      <td>2.89</td>\n",
       "      <td>4460</td>\n",
       "      <td>1</td>\n",
       "    </tr>\n",
       "    <tr>\n",
       "      <th>3</th>\n",
       "      <td>Angola</td>\n",
       "      <td>119.0</td>\n",
       "      <td>2199.19</td>\n",
       "      <td>100.6050</td>\n",
       "      <td>1514.370</td>\n",
       "      <td>5900</td>\n",
       "      <td>22.40</td>\n",
       "      <td>60.1</td>\n",
       "      <td>6.16</td>\n",
       "      <td>3530</td>\n",
       "      <td>0</td>\n",
       "    </tr>\n",
       "    <tr>\n",
       "      <th>4</th>\n",
       "      <td>Antigua and Barbuda</td>\n",
       "      <td>10.3</td>\n",
       "      <td>5551.00</td>\n",
       "      <td>735.6600</td>\n",
       "      <td>7185.800</td>\n",
       "      <td>19100</td>\n",
       "      <td>1.44</td>\n",
       "      <td>76.8</td>\n",
       "      <td>2.13</td>\n",
       "      <td>12200</td>\n",
       "      <td>1</td>\n",
       "    </tr>\n",
       "    <tr>\n",
       "      <th>...</th>\n",
       "      <td>...</td>\n",
       "      <td>...</td>\n",
       "      <td>...</td>\n",
       "      <td>...</td>\n",
       "      <td>...</td>\n",
       "      <td>...</td>\n",
       "      <td>...</td>\n",
       "      <td>...</td>\n",
       "      <td>...</td>\n",
       "      <td>...</td>\n",
       "      <td>...</td>\n",
       "    </tr>\n",
       "    <tr>\n",
       "      <th>162</th>\n",
       "      <td>Vanuatu</td>\n",
       "      <td>29.2</td>\n",
       "      <td>1384.02</td>\n",
       "      <td>155.9250</td>\n",
       "      <td>1565.190</td>\n",
       "      <td>2950</td>\n",
       "      <td>2.62</td>\n",
       "      <td>63.0</td>\n",
       "      <td>3.50</td>\n",
       "      <td>2970</td>\n",
       "      <td>1</td>\n",
       "    </tr>\n",
       "    <tr>\n",
       "      <th>163</th>\n",
       "      <td>Venezuela</td>\n",
       "      <td>17.1</td>\n",
       "      <td>3847.50</td>\n",
       "      <td>662.8500</td>\n",
       "      <td>2376.000</td>\n",
       "      <td>16500</td>\n",
       "      <td>45.90</td>\n",
       "      <td>75.4</td>\n",
       "      <td>2.47</td>\n",
       "      <td>13500</td>\n",
       "      <td>1</td>\n",
       "    </tr>\n",
       "    <tr>\n",
       "      <th>164</th>\n",
       "      <td>Vietnam</td>\n",
       "      <td>23.3</td>\n",
       "      <td>943.20</td>\n",
       "      <td>89.6040</td>\n",
       "      <td>1050.620</td>\n",
       "      <td>4490</td>\n",
       "      <td>12.10</td>\n",
       "      <td>73.1</td>\n",
       "      <td>1.95</td>\n",
       "      <td>1310</td>\n",
       "      <td>1</td>\n",
       "    </tr>\n",
       "    <tr>\n",
       "      <th>165</th>\n",
       "      <td>Yemen</td>\n",
       "      <td>56.3</td>\n",
       "      <td>393.00</td>\n",
       "      <td>67.8580</td>\n",
       "      <td>450.640</td>\n",
       "      <td>4480</td>\n",
       "      <td>23.60</td>\n",
       "      <td>67.5</td>\n",
       "      <td>4.67</td>\n",
       "      <td>1310</td>\n",
       "      <td>0</td>\n",
       "    </tr>\n",
       "    <tr>\n",
       "      <th>166</th>\n",
       "      <td>Zambia</td>\n",
       "      <td>83.1</td>\n",
       "      <td>540.20</td>\n",
       "      <td>85.9940</td>\n",
       "      <td>451.140</td>\n",
       "      <td>3280</td>\n",
       "      <td>14.00</td>\n",
       "      <td>52.0</td>\n",
       "      <td>5.40</td>\n",
       "      <td>1460</td>\n",
       "      <td>0</td>\n",
       "    </tr>\n",
       "  </tbody>\n",
       "</table>\n",
       "<p>167 rows × 11 columns</p>\n",
       "</div>"
      ],
      "text/plain": [
       "                 country  child_mort  exports    health   imports  income  \\\n",
       "0            Afghanistan        90.2    55.30   41.9174   248.297    1610   \n",
       "1                Albania        16.6  1145.20  267.8950  1987.740    9930   \n",
       "2                Algeria        27.3  1712.64  185.9820  1400.440   12900   \n",
       "3                 Angola       119.0  2199.19  100.6050  1514.370    5900   \n",
       "4    Antigua and Barbuda        10.3  5551.00  735.6600  7185.800   19100   \n",
       "..                   ...         ...      ...       ...       ...     ...   \n",
       "162              Vanuatu        29.2  1384.02  155.9250  1565.190    2950   \n",
       "163            Venezuela        17.1  3847.50  662.8500  2376.000   16500   \n",
       "164              Vietnam        23.3   943.20   89.6040  1050.620    4490   \n",
       "165                Yemen        56.3   393.00   67.8580   450.640    4480   \n",
       "166               Zambia        83.1   540.20   85.9940   451.140    3280   \n",
       "\n",
       "     inflation  life_expec  total_fer   gdpp  KM_Label  \n",
       "0         9.44        56.2       5.82    553         0  \n",
       "1         4.49        76.3       1.65   4090         1  \n",
       "2        16.10        76.5       2.89   4460         1  \n",
       "3        22.40        60.1       6.16   3530         0  \n",
       "4         1.44        76.8       2.13  12200         1  \n",
       "..         ...         ...        ...    ...       ...  \n",
       "162       2.62        63.0       3.50   2970         1  \n",
       "163      45.90        75.4       2.47  13500         1  \n",
       "164      12.10        73.1       1.95   1310         1  \n",
       "165      23.60        67.5       4.67   1310         0  \n",
       "166      14.00        52.0       5.40   1460         0  \n",
       "\n",
       "[167 rows x 11 columns]"
      ]
     },
     "execution_count": 137,
     "metadata": {},
     "output_type": "execute_result"
    }
   ],
   "source": [
    "combined"
   ]
  },
  {
   "cell_type": "code",
   "execution_count": 154,
   "id": "f0784bda",
   "metadata": {},
   "outputs": [
    {
     "data": {
      "image/png": "[encoded data removed]",
      "text/plain": [
       "<Figure size 1080x576 with 8 Axes>"
      ]
     },
     "metadata": {
      "needs_background": "light"
     },
     "output_type": "display_data"
    }
   ],
   "source": [
    "count=1\n",
    "plt.subplots(figsize=(15, 8))\n",
    "for c in ['child_mort','exports','health','imports','income','inflation','life_expec','total_fer']:\n",
    "    plt.subplot(3,3,count)\n",
    "    sns.scatterplot(x='gdpp',y=c,data=combined,hue='KM_Label')\n",
    "    count+=1\n",
    "    \n",
    "plt.show()\n",
    "    "
   ]
  },
  {
   "cell_type": "markdown",
   "id": "3ee8b805",
   "metadata": {},
   "source": [
    "There is a positive correlation between GDPP and level of imports, exports, spending on health, life expectancy.  \n",
    "There is a negative correlation between GDPP and chld mortality, fertility and inflation.  \n",
    "There is clear clustering across each graph."
   ]
  },
  {
   "cell_type": "code",
   "execution_count": 162,
   "id": "ef205cad",
   "metadata": {},
   "outputs": [
    {
     "data": {
      "image/png": "[encoded data removed]",
      "text/plain": [
       "<Figure size 1080x720 with 9 Axes>"
      ]
     },
     "metadata": {
      "needs_background": "light"
     },
     "output_type": "display_data"
    }
   ],
   "source": [
    "count=1\n",
    "plt.subplots(figsize=(15, 10))\n",
    "for c in ['child_mort','exports','health','imports','income','inflation','life_expec','total_fer','gdpp']:\n",
    "    plt.subplot(3,3,count)\n",
    "    sns.boxplot(x='KM_Label',y=c,data=combined)\n",
    "    count+=1\n",
    "    \n",
    "plt.show()"
   ]
  },
  {
   "cell_type": "markdown",
   "id": "884d64e9",
   "metadata": {},
   "source": [
    "## Group 0"
   ]
  },
  {
   "cell_type": "code",
   "execution_count": 191,
   "id": "7773ffa8",
   "metadata": {
    "scrolled": true
   },
   "outputs": [
    {
     "data": {
      "text/plain": [
       "1    92\n",
       "0    46\n",
       "2    29\n",
       "Name: KM_Label, dtype: int64"
      ]
     },
     "execution_count": 191,
     "metadata": {},
     "output_type": "execute_result"
    }
   ],
   "source": [
    "combined.KM_Label.value_counts()"
   ]
  },
  {
   "cell_type": "markdown",
   "id": "6971d76b",
   "metadata": {},
   "source": [
    "There are 46 countries in Group 0"
   ]
  },
  {
   "cell_type": "code",
   "execution_count": 192,
   "id": "4fda9623",
   "metadata": {},
   "outputs": [],
   "source": [
    "mask = combined['KM_Label']==0\n",
    "zero = combined[mask]"
   ]
  },
  {
   "cell_type": "code",
   "execution_count": 193,
   "id": "b1931067",
   "metadata": {},
   "outputs": [
    {
     "name": "stdout",
     "output_type": "stream",
     "text": [
      " Countries in Group 0 are:  ['Afghanistan', 'Angola', 'Benin', 'Burkina Faso', 'Burundi', 'Cameroon', 'Central African Republic', 'Chad', 'Comoros', 'Congo, Dem. Rep.', 'Congo, Rep.', \"Cote d'Ivoire\", 'Equatorial Guinea', 'Eritrea', 'Gabon', 'Gambia', 'Ghana', 'Guinea', 'Guinea-Bissau', 'Haiti', 'Iraq', 'Kenya', 'Kiribati', 'Lao', 'Lesotho', 'Liberia', 'Madagascar', 'Malawi', 'Mali', 'Mauritania', 'Mozambique', 'Namibia', 'Niger', 'Nigeria', 'Pakistan', 'Rwanda', 'Senegal', 'Sierra Leone', 'Solomon Islands', 'Sudan', 'Tanzania', 'Timor-Leste', 'Togo', 'Uganda', 'Yemen', 'Zambia']\n"
     ]
    }
   ],
   "source": [
    "print(f' Countries in Group 0 are:  {(list(zero.country))}')"
   ]
  },
  {
   "cell_type": "code",
   "execution_count": 194,
   "id": "91ca64ab",
   "metadata": {},
   "outputs": [
    {
     "data": {
      "image/png": "[encoded data removed]",
      "text/plain": [
       "<Figure size 864x576 with 1 Axes>"
      ]
     },
     "metadata": {
      "needs_background": "light"
     },
     "output_type": "display_data"
    }
   ],
   "source": [
    "plt.figure(figsize=(12,8))\n",
    "sns.barplot(x='gdpp', y='country', data=zero, order = zero.sort_values('gdpp').country)\n",
    "plt.show()"
   ]
  },
  {
   "cell_type": "code",
   "execution_count": 195,
   "id": "d8ce78cb",
   "metadata": {},
   "outputs": [
    {
     "data": {
      "image/png": "[encoded data removed]",
      "text/plain": [
       "<Figure size 576x432 with 2 Axes>"
      ]
     },
     "metadata": {
      "needs_background": "light"
     },
     "output_type": "display_data"
    }
   ],
   "source": [
    "plt.figure(figsize=(8,6))\n",
    "sns.heatmap(zero.corr(), annot=True,cmap='coolwarm');"
   ]
  },
  {
   "cell_type": "code",
   "execution_count": 199,
   "id": "c591618c",
   "metadata": {},
   "outputs": [
    {
     "data": {
      "text/html": [
       "<div>\n",
       "<style scoped>\n",
       "    .dataframe tbody tr th:only-of-type {\n",
       "        vertical-align: middle;\n",
       "    }\n",
       "\n",
       "    .dataframe tbody tr th {\n",
       "        vertical-align: top;\n",
       "    }\n",
       "\n",
       "    .dataframe thead th {\n",
       "        text-align: right;\n",
       "    }\n",
       "</style>\n",
       "<table border=\"1\" class=\"dataframe\">\n",
       "  <thead>\n",
       "    <tr style=\"text-align: right;\">\n",
       "      <th></th>\n",
       "      <th>country</th>\n",
       "      <th>child_mort</th>\n",
       "      <th>exports</th>\n",
       "      <th>health</th>\n",
       "      <th>imports</th>\n",
       "      <th>income</th>\n",
       "      <th>inflation</th>\n",
       "      <th>life_expec</th>\n",
       "      <th>total_fer</th>\n",
       "      <th>gdpp</th>\n",
       "      <th>KM_Label</th>\n",
       "    </tr>\n",
       "  </thead>\n",
       "  <tbody>\n",
       "    <tr>\n",
       "      <th>0</th>\n",
       "      <td>Afghanistan</td>\n",
       "      <td>90.2</td>\n",
       "      <td>55.30</td>\n",
       "      <td>medium</td>\n",
       "      <td>248.297</td>\n",
       "      <td>1610</td>\n",
       "      <td>9.44</td>\n",
       "      <td>56.2</td>\n",
       "      <td>5.82</td>\n",
       "      <td>553</td>\n",
       "      <td>0</td>\n",
       "    </tr>\n",
       "    <tr>\n",
       "      <th>3</th>\n",
       "      <td>Angola</td>\n",
       "      <td>119.0</td>\n",
       "      <td>2199.19</td>\n",
       "      <td>high</td>\n",
       "      <td>1514.370</td>\n",
       "      <td>5900</td>\n",
       "      <td>22.40</td>\n",
       "      <td>60.1</td>\n",
       "      <td>6.16</td>\n",
       "      <td>3530</td>\n",
       "      <td>0</td>\n",
       "    </tr>\n",
       "  </tbody>\n",
       "</table>\n",
       "</div>"
      ],
      "text/plain": [
       "       country  child_mort  exports  health   imports  income  inflation  \\\n",
       "0  Afghanistan        90.2    55.30  medium   248.297    1610       9.44   \n",
       "3       Angola       119.0  2199.19    high  1514.370    5900      22.40   \n",
       "\n",
       "   life_expec  total_fer  gdpp  KM_Label  \n",
       "0        56.2       5.82   553         0  \n",
       "3        60.1       6.16  3530         0  "
      ]
     },
     "execution_count": 199,
     "metadata": {},
     "output_type": "execute_result"
    }
   ],
   "source": [
    "zero.head(2)"
   ]
  },
  {
   "cell_type": "code",
   "execution_count": 197,
   "id": "21db6a48",
   "metadata": {},
   "outputs": [
    {
     "name": "stderr",
     "output_type": "stream",
     "text": [
      "/var/folders/ck/xg3scjhn503b00cjf3vysm3h0000gn/T/ipykernel_72746/576420155.py:1: SettingWithCopyWarning:\n",
      "\n",
      "\n",
      "A value is trying to be set on a copy of a slice from a DataFrame.\n",
      "Try using .loc[row_indexer,col_indexer] = value instead\n",
      "\n",
      "See the caveats in the documentation: https://pandas.pydata.org/pandas-docs/stable/user_guide/indexing.html#returning-a-view-versus-a-copy\n",
      "\n"
     ]
    }
   ],
   "source": [
    "zero['health'] = pd.qcut(zero['health'], 3, labels=[\"low\", \"medium\", \"high\"])"
   ]
  },
  {
   "cell_type": "code",
   "execution_count": 202,
   "id": "cdb68d5f",
   "metadata": {},
   "outputs": [
    {
     "data": {
      "image/png": "[encoded data removed]",
      "text/plain": [
       "<Figure size 432x288 with 1 Axes>"
      ]
     },
     "metadata": {
      "needs_background": "light"
     },
     "output_type": "display_data"
    }
   ],
   "source": [
    "sns.scatterplot(x='income',y='imports',data=zero,hue='health');"
   ]
  },
  {
   "cell_type": "code",
   "execution_count": null,
   "id": "e6350466",
   "metadata": {},
   "outputs": [],
   "source": []
  }
 ],
 "metadata": {
  "kernelspec": {
   "display_name": "Python 3 (ipykernel)",
   "language": "python",
   "name": "python3"
  },
  "language_info": {
   "codemirror_mode": {
    "name": "ipython",
    "version": 3
   },
   "file_extension": ".py",
   "mimetype": "text/x-python",
   "name": "python",
   "nbconvert_exporter": "python",
   "pygments_lexer": "ipython3",
   "version": "3.8.12"
  },
  "toc": {
   "base_numbering": 1,
   "nav_menu": {},
   "number_sections": true,
   "sideBar": true,
   "skip_h1_title": false,
   "title_cell": "Table of Contents",
   "title_sidebar": "Contents",
   "toc_cell": false,
   "toc_position": {},
   "toc_section_display": true,
   "toc_window_display": false
  }
 },
 "nbformat": 4,
 "nbformat_minor": 5
}
